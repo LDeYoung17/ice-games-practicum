{
 "cells": [
  {
   "attachments": {},
   "cell_type": "markdown",
   "metadata": {},
   "source": [
    "<h1>Introduction</h1>\n",
    "This analysis looks at different angles of the fuel data for the vehicle spreadsheet provided for the project. It looks at fuel in the scope of transmission and vehicle types and looks at the average price for different products."
   ]
  },
  {
   "attachments": {},
   "cell_type": "markdown",
   "metadata": {},
   "source": [
    "These are the different libraries that are necessary to complete the analysis."
   ]
  },
  {
   "cell_type": "code",
   "execution_count": 1400,
   "metadata": {},
   "outputs": [],
   "source": [
    "import pandas as pd\n",
    "import numpy as np\n",
    "from matplotlib import pyplot as plt\n",
    "from scipy import stats as st\n",
    "from math import factorial as ft \n",
    "import plotly.express as px"
   ]
  },
  {
   "attachments": {},
   "cell_type": "markdown",
   "metadata": {},
   "source": [
    "This reads the data into a DataFrame and displays the information and the first five rows of the data."
   ]
  },
  {
   "cell_type": "code",
   "execution_count": 1401,
   "metadata": {},
   "outputs": [
    {
     "data": {
      "text/html": [
       "<div>\n",
       "<style scoped>\n",
       "    .dataframe tbody tr th:only-of-type {\n",
       "        vertical-align: middle;\n",
       "    }\n",
       "\n",
       "    .dataframe tbody tr th {\n",
       "        vertical-align: top;\n",
       "    }\n",
       "\n",
       "    .dataframe thead th {\n",
       "        text-align: right;\n",
       "    }\n",
       "</style>\n",
       "<table border=\"1\" class=\"dataframe\">\n",
       "  <thead>\n",
       "    <tr style=\"text-align: right;\">\n",
       "      <th></th>\n",
       "      <th>Name</th>\n",
       "      <th>Platform</th>\n",
       "      <th>Year_of_Release</th>\n",
       "      <th>Genre</th>\n",
       "      <th>NA_sales</th>\n",
       "      <th>EU_sales</th>\n",
       "      <th>JP_sales</th>\n",
       "      <th>Other_sales</th>\n",
       "      <th>Critic_Score</th>\n",
       "      <th>User_Score</th>\n",
       "      <th>Rating</th>\n",
       "    </tr>\n",
       "  </thead>\n",
       "  <tbody>\n",
       "    <tr>\n",
       "      <th>0</th>\n",
       "      <td>Wii Sports</td>\n",
       "      <td>Wii</td>\n",
       "      <td>2006.0</td>\n",
       "      <td>Sports</td>\n",
       "      <td>41.36</td>\n",
       "      <td>28.96</td>\n",
       "      <td>3.77</td>\n",
       "      <td>8.45</td>\n",
       "      <td>76.0</td>\n",
       "      <td>8</td>\n",
       "      <td>E</td>\n",
       "    </tr>\n",
       "    <tr>\n",
       "      <th>1</th>\n",
       "      <td>Super Mario Bros.</td>\n",
       "      <td>NES</td>\n",
       "      <td>1985.0</td>\n",
       "      <td>Platform</td>\n",
       "      <td>29.08</td>\n",
       "      <td>3.58</td>\n",
       "      <td>6.81</td>\n",
       "      <td>0.77</td>\n",
       "      <td>NaN</td>\n",
       "      <td>NaN</td>\n",
       "      <td>NaN</td>\n",
       "    </tr>\n",
       "    <tr>\n",
       "      <th>2</th>\n",
       "      <td>Mario Kart Wii</td>\n",
       "      <td>Wii</td>\n",
       "      <td>2008.0</td>\n",
       "      <td>Racing</td>\n",
       "      <td>15.68</td>\n",
       "      <td>12.76</td>\n",
       "      <td>3.79</td>\n",
       "      <td>3.29</td>\n",
       "      <td>82.0</td>\n",
       "      <td>8.3</td>\n",
       "      <td>E</td>\n",
       "    </tr>\n",
       "    <tr>\n",
       "      <th>3</th>\n",
       "      <td>Wii Sports Resort</td>\n",
       "      <td>Wii</td>\n",
       "      <td>2009.0</td>\n",
       "      <td>Sports</td>\n",
       "      <td>15.61</td>\n",
       "      <td>10.93</td>\n",
       "      <td>3.28</td>\n",
       "      <td>2.95</td>\n",
       "      <td>80.0</td>\n",
       "      <td>8</td>\n",
       "      <td>E</td>\n",
       "    </tr>\n",
       "    <tr>\n",
       "      <th>4</th>\n",
       "      <td>Pokemon Red/Pokemon Blue</td>\n",
       "      <td>GB</td>\n",
       "      <td>1996.0</td>\n",
       "      <td>Role-Playing</td>\n",
       "      <td>11.27</td>\n",
       "      <td>8.89</td>\n",
       "      <td>10.22</td>\n",
       "      <td>1.00</td>\n",
       "      <td>NaN</td>\n",
       "      <td>NaN</td>\n",
       "      <td>NaN</td>\n",
       "    </tr>\n",
       "  </tbody>\n",
       "</table>\n",
       "</div>"
      ],
      "text/plain": [
       "                       Name Platform  Year_of_Release         Genre  NA_sales  \\\n",
       "0                Wii Sports      Wii           2006.0        Sports     41.36   \n",
       "1         Super Mario Bros.      NES           1985.0      Platform     29.08   \n",
       "2            Mario Kart Wii      Wii           2008.0        Racing     15.68   \n",
       "3         Wii Sports Resort      Wii           2009.0        Sports     15.61   \n",
       "4  Pokemon Red/Pokemon Blue       GB           1996.0  Role-Playing     11.27   \n",
       "\n",
       "   EU_sales  JP_sales  Other_sales  Critic_Score User_Score Rating  \n",
       "0     28.96      3.77         8.45          76.0          8      E  \n",
       "1      3.58      6.81         0.77           NaN        NaN    NaN  \n",
       "2     12.76      3.79         3.29          82.0        8.3      E  \n",
       "3     10.93      3.28         2.95          80.0          8      E  \n",
       "4      8.89     10.22         1.00           NaN        NaN    NaN  "
      ]
     },
     "metadata": {},
     "output_type": "display_data"
    },
    {
     "name": "stdout",
     "output_type": "stream",
     "text": [
      "<class 'pandas.core.frame.DataFrame'>\n",
      "RangeIndex: 16715 entries, 0 to 16714\n",
      "Data columns (total 11 columns):\n",
      " #   Column           Non-Null Count  Dtype  \n",
      "---  ------           --------------  -----  \n",
      " 0   Name             16713 non-null  object \n",
      " 1   Platform         16715 non-null  object \n",
      " 2   Year_of_Release  16446 non-null  float64\n",
      " 3   Genre            16713 non-null  object \n",
      " 4   NA_sales         16715 non-null  float64\n",
      " 5   EU_sales         16715 non-null  float64\n",
      " 6   JP_sales         16715 non-null  float64\n",
      " 7   Other_sales      16715 non-null  float64\n",
      " 8   Critic_Score     8137 non-null   float64\n",
      " 9   User_Score       10014 non-null  object \n",
      " 10  Rating           9949 non-null   object \n",
      "dtypes: float64(6), object(5)\n",
      "memory usage: 1.4+ MB\n"
     ]
    }
   ],
   "source": [
    "ice_data = pd.read_csv('/Users/leahdeyoung/Desktop/GitHub/ice-games-practicum/moved_games.csv', encoding = \"utf-8\")\n",
    "\n",
    "display(ice_data.head())\n",
    "ice_data.info()"
   ]
  },
  {
   "attachments": {},
   "cell_type": "markdown",
   "metadata": {},
   "source": [
    "<h2>Data PreProcessing</h2>"
   ]
  },
  {
   "attachments": {},
   "cell_type": "markdown",
   "metadata": {},
   "source": [
    "This code checks for any fully duplicate rows. There appear to be none."
   ]
  },
  {
   "cell_type": "code",
   "execution_count": 1402,
   "metadata": {},
   "outputs": [
    {
     "name": "stdout",
     "output_type": "stream",
     "text": [
      "0\n"
     ]
    }
   ],
   "source": [
    "print(ice_data.duplicated().sum())"
   ]
  },
  {
   "attachments": {},
   "cell_type": "markdown",
   "metadata": {},
   "source": [
    "I replaced all the column names with the lowercase version of the name."
   ]
  },
  {
   "cell_type": "code",
   "execution_count": 1403,
   "metadata": {},
   "outputs": [
    {
     "name": "stdout",
     "output_type": "stream",
     "text": [
      "Index(['name', 'platform', 'year_of_release', 'genre', 'na_sales', 'eu_sales',\n",
      "       'jp_sales', 'other_sales', 'critic_score', 'user_score', 'rating'],\n",
      "      dtype='object')\n"
     ]
    }
   ],
   "source": [
    "ice_data = ice_data.rename(columns={\n",
    "    'Name': 'name', \n",
    "    'Platform': 'platform',\n",
    "    'Year_of_Release': 'year_of_release',\n",
    "    'Genre': 'genre',\n",
    "    'NA_sales': 'na_sales',\n",
    "    'EU_sales': 'eu_sales',\n",
    "    'JP_sales': 'jp_sales',\n",
    "    'Other_sales': 'other_sales',\n",
    "    'User_Score': 'user_score',\n",
    "    'Critic_Score': 'critic_score',\n",
    "    'Rating': 'rating'\n",
    "})\n",
    "print(ice_data.columns)"
   ]
  },
  {
   "attachments": {},
   "cell_type": "markdown",
   "metadata": {},
   "source": [
    "This code checks for duplicates in the name data by converting all the names to lowercase values and dropping any duplicates that also have a duplicate year of release and platform. This is because some games have new releases in different years and games could be released on different platforms."
   ]
  },
  {
   "cell_type": "code",
   "execution_count": 1404,
   "metadata": {},
   "outputs": [
    {
     "name": "stdout",
     "output_type": "stream",
     "text": [
      "<class 'pandas.core.frame.DataFrame'>\n",
      "RangeIndex: 16715 entries, 0 to 16714\n",
      "Data columns (total 11 columns):\n",
      " #   Column           Non-Null Count  Dtype  \n",
      "---  ------           --------------  -----  \n",
      " 0   name             16713 non-null  object \n",
      " 1   platform         16715 non-null  object \n",
      " 2   year_of_release  16446 non-null  float64\n",
      " 3   genre            16713 non-null  object \n",
      " 4   na_sales         16715 non-null  float64\n",
      " 5   eu_sales         16715 non-null  float64\n",
      " 6   jp_sales         16715 non-null  float64\n",
      " 7   other_sales      16715 non-null  float64\n",
      " 8   critic_score     8137 non-null   float64\n",
      " 9   user_score       10014 non-null  object \n",
      " 10  rating           9949 non-null   object \n",
      "dtypes: float64(6), object(5)\n",
      "memory usage: 1.4+ MB\n",
      "Need for Speed: Most Wanted                         12\n",
      "Ratatouille                                          9\n",
      "LEGO Marvel Super Heroes                             9\n",
      "FIFA 14                                              9\n",
      "Madden NFL 07                                        9\n",
      "                                                    ..\n",
      "Jewels of the Tropical Lost Island                   1\n",
      "Sherlock Holmes and the Mystery of Osborne House     1\n",
      "The King of Fighters '95 (CD)                        1\n",
      "Megamind: Mega Team Unite                            1\n",
      "Haitaka no Psychedelica                              1\n",
      "Name: name, Length: 11559, dtype: int64\n",
      "['Wii Sports' 'Super Mario Bros.' 'Mario Kart Wii' ...\n",
      " 'Woody Woodpecker in Crazy Castle 5' 'LMA Manager 2007'\n",
      " 'Haitaka no Psychedelica']\n",
      "Need for Speed: Most Wanted                         12\n",
      "Ratatouille                                          9\n",
      "LEGO Marvel Super Heroes                             9\n",
      "FIFA 14                                              9\n",
      "Madden NFL 07                                        9\n",
      "                                                    ..\n",
      "Jewels of the Tropical Lost Island                   1\n",
      "Sherlock Holmes and the Mystery of Osborne House     1\n",
      "The King of Fighters '95 (CD)                        1\n",
      "Megamind: Mega Team Unite                            1\n",
      "Haitaka no Psychedelica                              1\n",
      "Name: name, Length: 11559, dtype: int64\n",
      "['wii sports' 'super mario bros.' 'mario kart wii' ...\n",
      " 'woody woodpecker in crazy castle 5' 'lma manager 2007'\n",
      " 'haitaka no psychedelica']\n",
      "<class 'pandas.core.frame.DataFrame'>\n",
      "RangeIndex: 16713 entries, 0 to 16712\n",
      "Data columns (total 12 columns):\n",
      " #   Column           Non-Null Count  Dtype  \n",
      "---  ------           --------------  -----  \n",
      " 0   name             16712 non-null  object \n",
      " 1   platform         16713 non-null  object \n",
      " 2   year_of_release  16444 non-null  float64\n",
      " 3   genre            16712 non-null  object \n",
      " 4   na_sales         16713 non-null  float64\n",
      " 5   eu_sales         16713 non-null  float64\n",
      " 6   jp_sales         16713 non-null  float64\n",
      " 7   other_sales      16713 non-null  float64\n",
      " 8   critic_score     8136 non-null   float64\n",
      " 9   user_score       10013 non-null  object \n",
      " 10  rating           9948 non-null   object \n",
      " 11  name_lowercase   16712 non-null  object \n",
      "dtypes: float64(6), object(6)\n",
      "memory usage: 1.5+ MB\n"
     ]
    }
   ],
   "source": [
    "ice_data.info()\n",
    "print(ice_data['name'].value_counts())\n",
    "print(ice_data['name'].unique())\n",
    "ice_data['name_lowercase'] = ice_data['name'].str.lower()\n",
    "print(ice_data['name'].value_counts())\n",
    "print(ice_data['name_lowercase'].unique())\n",
    "\n",
    "ice_data = ice_data.drop_duplicates(subset=['name_lowercase', 'year_of_release', 'platform']).reset_index(drop=True)\n",
    "\n",
    "ice_data.info()\n",
    "\n"
   ]
  },
  {
   "attachments": {},
   "cell_type": "markdown",
   "metadata": {},
   "source": [
    "This code checks for names that are missing, then grabs the rows where the name is missing to view for analysis.\n",
    "\n",
    "It looks like quite a bit of information is missing about this row; however, there were in fact sales in Europe and North America for this game, and the platform is valid and used for other games. Therefore, I decided to keep the row and add the string \"Unknown Name\" to the name field."
   ]
  },
  {
   "cell_type": "code",
   "execution_count": 1405,
   "metadata": {},
   "outputs": [
    {
     "name": "stdout",
     "output_type": "stream",
     "text": [
      "1\n",
      "    name platform  year_of_release genre  na_sales  eu_sales  jp_sales  \\\n",
      "659  NaN      GEN           1993.0   NaN      1.78      0.53       0.0   \n",
      "\n",
      "     other_sales  critic_score user_score rating name_lowercase  \n",
      "659         0.08           NaN        NaN    NaN            NaN  \n",
      "PS2     2161\n",
      "DS      2151\n",
      "PS3     1330\n",
      "Wii     1320\n",
      "X360    1262\n",
      "PSP     1209\n",
      "PS      1197\n",
      "PC       974\n",
      "XB       824\n",
      "GBA      822\n",
      "GC       556\n",
      "3DS      520\n",
      "PSV      430\n",
      "PS4      392\n",
      "N64      319\n",
      "XOne     247\n",
      "SNES     239\n",
      "SAT      173\n",
      "WiiU     147\n",
      "2600     133\n",
      "NES       98\n",
      "GB        98\n",
      "DC        52\n",
      "GEN       28\n",
      "NG        12\n",
      "Name: platform, dtype: int64\n",
      "0\n"
     ]
    }
   ],
   "source": [
    "print(ice_data['name'].isna().sum())\n",
    "print(ice_data.query(\"name.isna()\"))\n",
    "print(ice_data['platform'].value_counts().head(25))\n",
    "ice_data['name'] = ice_data['name'].fillna('Unknown Name')\n",
    "print(ice_data['name'].isna().sum())\n"
   ]
  },
  {
   "attachments": {},
   "cell_type": "markdown",
   "metadata": {},
   "source": [
    "I looked at sample rows that are missing the year of release and I noticed that some have the year in the name field. For those rows, I used the year listed in the name to fill the year of release. For the other rows, I replaced the missing year of release with median year of release. For all rows I converted the datatype to datetime and made sure to isolate just the year."
   ]
  },
  {
   "cell_type": "code",
   "execution_count": 1406,
   "metadata": {},
   "outputs": [
    {
     "name": "stdout",
     "output_type": "stream",
     "text": [
      "269\n",
      "254\n",
      "0\n"
     ]
    }
   ],
   "source": [
    "print(ice_data['year_of_release'].isna().sum())\n",
    "\n",
    "#fill year from name\n",
    "ice_data['year_of_release'] = ice_data['year_of_release'].where(ice_data['name'] != 'PES 2009: Pro Evolution Soccer', 2009)\n",
    "ice_data['name_year'] = ice_data.query(\"year_of_release.isna() and (name.str.contains('200') or name.str.contains('19'))\")['name'].str[-4:]\n",
    "ice_data['year_of_release'] = ice_data['year_of_release'].where((ice_data['year_of_release'].notna() & ice_data['name_year'].isna()), ice_data['name_year'])\n",
    "\n",
    "#check work\n",
    "print(ice_data['year_of_release'].isna().sum())\n",
    "\n",
    "#fill missing fields by median\n",
    "year_median = ice_data['year_of_release'].median()\n",
    "year_median = round(year_median, 0)\n",
    "ice_data['year_of_release'] = ice_data['year_of_release'].where((ice_data['year_of_release'].notna()) , year_median) \n",
    "\n",
    "#convert datatype\n",
    "ice_data['year_of_release'] = ice_data['year_of_release'].astype(int)\n",
    "ice_data['year_of_release'] = pd.to_datetime(ice_data['year_of_release'], format='%Y')\n",
    "ice_data['year_of_release'] = ice_data['year_of_release'].dt.year\n",
    "\n",
    "#check work\n",
    "print(ice_data['year_of_release'].isna().sum())\n",
    "\n"
   ]
  },
  {
   "attachments": {},
   "cell_type": "markdown",
   "metadata": {},
   "source": [
    "This code checks for genres that are missing, then grabs the rows where the genre is missing to view for analysis.\n",
    "\n",
    "It looks like this is the same row that was missing the name. Based on my previous analysis, I decided to keep the row and add the string \"Unknown Genre\" to the genre field."
   ]
  },
  {
   "cell_type": "code",
   "execution_count": 1407,
   "metadata": {},
   "outputs": [
    {
     "name": "stdout",
     "output_type": "stream",
     "text": [
      "1\n",
      "             name platform  year_of_release genre  na_sales  eu_sales  \\\n",
      "659  Unknown Name      GEN             1993   NaN      1.78      0.53   \n",
      "\n",
      "     jp_sales  other_sales  critic_score user_score rating name_lowercase  \\\n",
      "659       0.0         0.08           NaN        NaN    NaN            NaN   \n",
      "\n",
      "    name_year  \n",
      "659       NaN  \n",
      "0\n"
     ]
    }
   ],
   "source": [
    "print(ice_data['genre'].isna().sum())\n",
    "print(ice_data.query(\"genre.isna()\"))\n",
    "ice_data['genre'] = ice_data['genre'].fillna('Unknown Genre')\n",
    "print(ice_data['genre'].isna().sum())\n"
   ]
  },
  {
   "attachments": {},
   "cell_type": "markdown",
   "metadata": {},
   "source": [
    "I looked at sample rows that are missing the critic score and I did not see any pattern. It is likely these are simply games that did not have a critic score yet. This code calculates the mean critic score by year of release and fills in the missing critic score data with the appropriate mean by year."
   ]
  },
  {
   "cell_type": "code",
   "execution_count": 1408,
   "metadata": {},
   "outputs": [
    {
     "name": "stdout",
     "output_type": "stream",
     "text": [
      "8577\n",
      "                                                    name platform  \\\n",
      "8348                         Digimon Story: Cyber Sleuth      PSV   \n",
      "5273                        Kinectimals: Now with Bears!     X360   \n",
      "15113                                    Urakata Hakuoki      PSP   \n",
      "14176  Boboboubo Boubobo: Ougi 87.5 Bakuretsu Hanage ...      GBA   \n",
      "11748            The Idolmaster: Gravure For You! Vol. 3      PS3   \n",
      "\n",
      "       year_of_release         genre  na_sales  eu_sales  jp_sales  \\\n",
      "8348              2015  Role-Playing      0.00      0.00      0.17   \n",
      "5273              2011          Misc      0.27      0.06      0.00   \n",
      "15113             2013     Adventure      0.00      0.00      0.02   \n",
      "14176             2002        Action      0.00      0.00      0.03   \n",
      "11748             2011          Misc      0.00      0.00      0.08   \n",
      "\n",
      "       other_sales  critic_score user_score rating  \\\n",
      "8348          0.00           NaN        8.8      T   \n",
      "5273          0.03           NaN        NaN    NaN   \n",
      "15113         0.00           NaN        NaN    NaN   \n",
      "14176         0.00           NaN        NaN    NaN   \n",
      "11748         0.00           NaN        NaN    NaN   \n",
      "\n",
      "                                          name_lowercase name_year  \n",
      "8348                         digimon story: cyber sleuth       NaN  \n",
      "5273                        kinectimals: now with bears!       NaN  \n",
      "15113                                    urakata hakuoki       NaN  \n",
      "14176  boboboubo boubobo: ougi 87.5 bakuretsu hanage ...       NaN  \n",
      "11748            the idolmaster: gravure for you! vol. 3       NaN  \n",
      "1915\n",
      "0\n"
     ]
    }
   ],
   "source": [
    "#view data and compare\n",
    "print(ice_data['critic_score'].isna().sum())\n",
    "print(ice_data.query(\"critic_score.isna()\").sample(5))\n",
    "print(ice_data.query(\"critic_score.isna() and user_score.notna()\")['name'].count())\n",
    "\n",
    "#calculate critic score by year and fill missing values\n",
    "critic_score_mean = ice_data.groupby('year_of_release')['critic_score'].mean()\n",
    "critic_score_mean = critic_score_mean.fillna(0)\n",
    "critic_score_mean = critic_score_mean.reset_index().rename(columns={0: 'year_of_release', 'critic_score': 'mean_critic_score'})\n",
    "ice_data = ice_data.merge(critic_score_mean, on='year_of_release', how='left')\n",
    "ice_data['critic_score'] = ice_data['critic_score'].fillna(ice_data['mean_critic_score'])\n",
    "\n",
    "#check work\n",
    "print(ice_data['critic_score'].isna().sum())\n"
   ]
  },
  {
   "attachments": {},
   "cell_type": "markdown",
   "metadata": {},
   "source": [
    "I looked at sample rows that are missing the rating, and I noticed that any game that is missing a rating is also missing a user score, but I am actually not sure if there is a conclusion to be drawn there. The code then fills blank values with \"Rating Unknown\"."
   ]
  },
  {
   "cell_type": "code",
   "execution_count": 1409,
   "metadata": {},
   "outputs": [
    {
     "name": "stdout",
     "output_type": "stream",
     "text": [
      "6765\n",
      "                                                    name platform  \\\n",
      "14188  World Series of Poker: Tournament of Champions...      PS2   \n",
      "16609                                    Palais de Reine      PS2   \n",
      "14217                   Paddington: Adventures in London      3DS   \n",
      "13912                                  Just Sing! Vol. 2       DS   \n",
      "6446                                    Tales of Eternia      PSP   \n",
      "\n",
      "       year_of_release         genre  na_sales  eu_sales  jp_sales  \\\n",
      "14188             2006          Misc      0.02      0.01      0.00   \n",
      "16609             2007      Strategy      0.00      0.00      0.01   \n",
      "14217             2015        Puzzle      0.00      0.03      0.00   \n",
      "13912             2011          Misc      0.00      0.03      0.00   \n",
      "6446              2005  Role-Playing      0.00      0.01      0.25   \n",
      "\n",
      "       other_sales  critic_score user_score rating  \\\n",
      "14188          0.0     67.338710        NaN    NaN   \n",
      "16609          0.0     66.314593        NaN    NaN   \n",
      "14217          0.0     72.871111        tbd    NaN   \n",
      "13912          0.0     68.692000        NaN    NaN   \n",
      "6446           0.0     68.834094        NaN    NaN   \n",
      "\n",
      "                                          name_lowercase name_year  \\\n",
      "14188  world series of poker: tournament of champions...       NaN   \n",
      "16609                                    palais de reine       NaN   \n",
      "14217                   paddington: adventures in london       NaN   \n",
      "13912                                  just sing! vol. 2       NaN   \n",
      "6446                                    tales of eternia       NaN   \n",
      "\n",
      "       mean_critic_score  \n",
      "14188          67.338710  \n",
      "16609          66.314593  \n",
      "14217          72.871111  \n",
      "13912          68.692000  \n",
      "6446           68.834094  \n",
      "136\n",
      "0\n"
     ]
    }
   ],
   "source": [
    "print(ice_data['rating'].isna().sum())\n",
    "print(ice_data.query(\"rating.isna()\").sample(5))\n",
    "print(ice_data.query(\"rating.isna() and user_score.notna()\")['name'].count())\n",
    "ice_data['rating'] = ice_data['rating'].fillna('Rating Unknown')\n",
    "print(ice_data['rating'].isna().sum())"
   ]
  },
  {
   "attachments": {},
   "cell_type": "markdown",
   "metadata": {},
   "source": [
    "Two of the rows has a user score of \"tbd\". I am guessing that this means that a user has not giving this a score or user rating yet. To mitigate this, I averaged all the unique ratings values together and replaced the \"tbd\" values with this average. The remaining code calculates the mean user score by year of release and fills in the missing (NaN) user score data with the appropriate mean by year."
   ]
  },
  {
   "cell_type": "code",
   "execution_count": 1410,
   "metadata": {},
   "outputs": [
    {
     "name": "stdout",
     "output_type": "stream",
     "text": [
      "6700\n",
      "['8' nan '8.3' '8.5' '6.6' '8.4' '8.6' '7.7' '6.3' '7.4' '8.2' '9' '7.9'\n",
      " '8.1' '8.7' '7.1' '3.4' '5.3' '4.8' '3.2' '8.9' '6.4' '7.8' '7.5' '2.6'\n",
      " '7.2' '9.2' '7' '7.3' '4.3' '7.6' '5.7' '5' '9.1' '6.5' 'tbd' '8.8' '6.9'\n",
      " '9.4' '6.8' '6.1' '6.7' '5.4' '4' '4.9' '4.5' '9.3' '6.2' '4.2' '6' '3.7'\n",
      " '4.1' '5.8' '5.6' '5.5' '4.4' '4.6' '5.9' '3.9' '3.1' '2.9' '5.2' '3.3'\n",
      " '4.7' '5.1' '3.5' '2.5' '1.9' '3' '2.7' '2.2' '2' '9.5' '2.1' '3.6' '2.8'\n",
      " '1.8' '3.8' '0' '1.6' '9.6' '2.4' '1.7' '1.1' '0.3' '1.5' '0.7' '1.2'\n",
      " '2.3' '0.5' '1.3' '0.2' '0.6' '1.4' '0.9' '1' '9.7']\n",
      "                                           name platform  year_of_release  \\\n",
      "119                               Zumba Fitness      Wii             2010   \n",
      "301              Namco Museum: 50th Anniversary      PS2             2005   \n",
      "520                             Zumba Fitness 2      Wii             2011   \n",
      "645                                uDraw Studio      Wii             2010   \n",
      "657    Frogger's Adventures: Temple of the Frog      GBA             2007   \n",
      "...                                         ...      ...              ...   \n",
      "16693                           Planet Monsters      GBA             2001   \n",
      "16695                          Bust-A-Move 3000       GC             2003   \n",
      "16696                          Mega Brain Boost       DS             2008   \n",
      "16702                                  Plushees       DS             2008   \n",
      "16704             Men in Black II: Alien Escape       GC             2003   \n",
      "\n",
      "            genre  na_sales  eu_sales  jp_sales  other_sales  critic_score  \\\n",
      "119        Sports      3.45      2.59       0.0         0.66     67.482000   \n",
      "301          Misc      2.08      1.35       0.0         0.54     61.000000   \n",
      "520        Sports      1.51      1.03       0.0         0.27     68.692000   \n",
      "645          Misc      1.65      0.57       0.0         0.20     71.000000   \n",
      "657     Adventure      2.15      0.18       0.0         0.07     73.000000   \n",
      "...           ...       ...       ...       ...          ...           ...   \n",
      "16693      Action      0.01      0.00       0.0         0.00     67.000000   \n",
      "16695      Puzzle      0.01      0.00       0.0         0.00     53.000000   \n",
      "16696      Puzzle      0.01      0.00       0.0         0.00     48.000000   \n",
      "16702  Simulation      0.01      0.00       0.0         0.00     65.872905   \n",
      "16704     Shooter      0.01      0.00       0.0         0.00     70.227504   \n",
      "\n",
      "      user_score rating                            name_lowercase name_year  \\\n",
      "119          tbd      E                             zumba fitness       NaN   \n",
      "301          tbd   E10+            namco museum: 50th anniversary       NaN   \n",
      "520          tbd      T                           zumba fitness 2       NaN   \n",
      "645          tbd      E                              udraw studio       NaN   \n",
      "657          tbd      E  frogger's adventures: temple of the frog       NaN   \n",
      "...          ...    ...                                       ...       ...   \n",
      "16693        tbd      E                           planet monsters       NaN   \n",
      "16695        tbd      E                          bust-a-move 3000       NaN   \n",
      "16696        tbd      E                          mega brain boost       NaN   \n",
      "16702        tbd      E                                  plushees       NaN   \n",
      "16704        tbd      T             men in black ii: alien escape       NaN   \n",
      "\n",
      "       mean_critic_score  \n",
      "119            67.482000  \n",
      "301            68.834094  \n",
      "520            68.692000  \n",
      "645            67.482000  \n",
      "657            66.314593  \n",
      "...                  ...  \n",
      "16693          71.414110  \n",
      "16695          70.227504  \n",
      "16696          65.872905  \n",
      "16702          65.872905  \n",
      "16704          70.227504  \n",
      "\n",
      "[2424 rows x 14 columns]\n",
      "0\n"
     ]
    }
   ],
   "source": [
    "print(ice_data['user_score'].isna().sum())\n",
    "print(ice_data['user_score'].unique())\n",
    "print(ice_data.query(\"user_score == 'tbd'\"))\n",
    "\n",
    "#calculate overall user_score mean to replace \"tbd\" value\n",
    "user_score_dropna = ice_data['user_score'].dropna()\n",
    "score_list = list(user_score_dropna.unique())\n",
    "score_list.remove('tbd')\n",
    "score_float_list = [float(score) for score in score_list]\n",
    "score_mean = sum(score_float_list) / len(score_float_list)\n",
    "ice_data['user_score'] = ice_data['user_score'].where((ice_data['user_score'] != 'tbd') , score_mean) \n",
    "\n",
    "#fill NaN values with user_score mean by year\n",
    "ice_data['user_score'] = ice_data['user_score'].astype(float)\n",
    "user_score_mean = ice_data.groupby('year_of_release')['user_score'].mean()\n",
    "user_score_mean = user_score_mean.fillna(0)\n",
    "user_score_mean = user_score_mean.reset_index().rename(columns={0: 'year_of_release', 'user_score': 'mean_user_score'})\n",
    "ice_data = ice_data.merge(user_score_mean, on='year_of_release', how='left')\n",
    "ice_data['user_score'] = ice_data['user_score'].fillna(ice_data['mean_user_score'])\n",
    "\n",
    "#check work\n",
    "print(ice_data['user_score'].isna().sum())"
   ]
  },
  {
   "attachments": {},
   "cell_type": "markdown",
   "metadata": {},
   "source": [
    "This code creates a total sales column and adds the other three regions together to determine the value"
   ]
  },
  {
   "cell_type": "code",
   "execution_count": 1411,
   "metadata": {},
   "outputs": [],
   "source": [
    "ice_data['total_sales'] = ice_data['na_sales'] + ice_data['eu_sales'] + ice_data['jp_sales'] + ice_data['other_sales']"
   ]
  },
  {
   "attachments": {},
   "cell_type": "markdown",
   "metadata": {},
   "source": [
    "This code drops all the extra columns created to clean the data."
   ]
  },
  {
   "cell_type": "code",
   "execution_count": 1412,
   "metadata": {},
   "outputs": [],
   "source": [
    "ice_data.drop(['name_lowercase', 'name_year', 'mean_critic_score', 'mean_user_score'], axis=1, inplace=True)\n",
    "\n"
   ]
  },
  {
   "attachments": {},
   "cell_type": "markdown",
   "metadata": {},
   "source": [
    "This code checks the info on the dataframe and a random ten rows of the DataFrame"
   ]
  },
  {
   "cell_type": "code",
   "execution_count": 1413,
   "metadata": {},
   "outputs": [
    {
     "name": "stdout",
     "output_type": "stream",
     "text": [
      "<class 'pandas.core.frame.DataFrame'>\n",
      "Int64Index: 16713 entries, 0 to 16712\n",
      "Data columns (total 12 columns):\n",
      " #   Column           Non-Null Count  Dtype  \n",
      "---  ------           --------------  -----  \n",
      " 0   name             16713 non-null  object \n",
      " 1   platform         16713 non-null  object \n",
      " 2   year_of_release  16713 non-null  int64  \n",
      " 3   genre            16713 non-null  object \n",
      " 4   na_sales         16713 non-null  float64\n",
      " 5   eu_sales         16713 non-null  float64\n",
      " 6   jp_sales         16713 non-null  float64\n",
      " 7   other_sales      16713 non-null  float64\n",
      " 8   critic_score     16713 non-null  float64\n",
      " 9   user_score       16713 non-null  float64\n",
      " 10  rating           16713 non-null  object \n",
      " 11  total_sales      16713 non-null  float64\n",
      "dtypes: float64(7), int64(1), object(4)\n",
      "memory usage: 1.7+ MB\n"
     ]
    },
    {
     "data": {
      "text/html": [
       "<div>\n",
       "<style scoped>\n",
       "    .dataframe tbody tr th:only-of-type {\n",
       "        vertical-align: middle;\n",
       "    }\n",
       "\n",
       "    .dataframe tbody tr th {\n",
       "        vertical-align: top;\n",
       "    }\n",
       "\n",
       "    .dataframe thead th {\n",
       "        text-align: right;\n",
       "    }\n",
       "</style>\n",
       "<table border=\"1\" class=\"dataframe\">\n",
       "  <thead>\n",
       "    <tr style=\"text-align: right;\">\n",
       "      <th></th>\n",
       "      <th>name</th>\n",
       "      <th>platform</th>\n",
       "      <th>year_of_release</th>\n",
       "      <th>genre</th>\n",
       "      <th>na_sales</th>\n",
       "      <th>eu_sales</th>\n",
       "      <th>jp_sales</th>\n",
       "      <th>other_sales</th>\n",
       "      <th>critic_score</th>\n",
       "      <th>user_score</th>\n",
       "      <th>rating</th>\n",
       "      <th>total_sales</th>\n",
       "    </tr>\n",
       "  </thead>\n",
       "  <tbody>\n",
       "    <tr>\n",
       "      <th>12759</th>\n",
       "      <td>Aggressive Inline</td>\n",
       "      <td>GC</td>\n",
       "      <td>2002</td>\n",
       "      <td>Sports</td>\n",
       "      <td>0.04</td>\n",
       "      <td>0.01</td>\n",
       "      <td>0.00</td>\n",
       "      <td>0.00</td>\n",
       "      <td>88.000000</td>\n",
       "      <td>7.800000</td>\n",
       "      <td>T</td>\n",
       "      <td>0.05</td>\n",
       "    </tr>\n",
       "    <tr>\n",
       "      <th>1834</th>\n",
       "      <td>The Beatles: Rock Band</td>\n",
       "      <td>PS3</td>\n",
       "      <td>2009</td>\n",
       "      <td>Misc</td>\n",
       "      <td>0.67</td>\n",
       "      <td>0.29</td>\n",
       "      <td>0.00</td>\n",
       "      <td>0.15</td>\n",
       "      <td>88.000000</td>\n",
       "      <td>8.700000</td>\n",
       "      <td>T</td>\n",
       "      <td>1.11</td>\n",
       "    </tr>\n",
       "    <tr>\n",
       "      <th>322</th>\n",
       "      <td>The Legend of Zelda: Link's Awakening</td>\n",
       "      <td>GB</td>\n",
       "      <td>1992</td>\n",
       "      <td>Action</td>\n",
       "      <td>2.21</td>\n",
       "      <td>0.96</td>\n",
       "      <td>0.54</td>\n",
       "      <td>0.13</td>\n",
       "      <td>85.000000</td>\n",
       "      <td>8.200000</td>\n",
       "      <td>Rating Unknown</td>\n",
       "      <td>3.84</td>\n",
       "    </tr>\n",
       "    <tr>\n",
       "      <th>11403</th>\n",
       "      <td>Derby Stallion 98</td>\n",
       "      <td>SNES</td>\n",
       "      <td>1998</td>\n",
       "      <td>Sports</td>\n",
       "      <td>0.00</td>\n",
       "      <td>0.00</td>\n",
       "      <td>0.08</td>\n",
       "      <td>0.00</td>\n",
       "      <td>81.821429</td>\n",
       "      <td>8.506452</td>\n",
       "      <td>Rating Unknown</td>\n",
       "      <td>0.08</td>\n",
       "    </tr>\n",
       "    <tr>\n",
       "      <th>12719</th>\n",
       "      <td>Street Fighter V</td>\n",
       "      <td>PC</td>\n",
       "      <td>2016</td>\n",
       "      <td>Fighting</td>\n",
       "      <td>0.00</td>\n",
       "      <td>0.05</td>\n",
       "      <td>0.00</td>\n",
       "      <td>0.00</td>\n",
       "      <td>74.000000</td>\n",
       "      <td>2.900000</td>\n",
       "      <td>T</td>\n",
       "      <td>0.05</td>\n",
       "    </tr>\n",
       "    <tr>\n",
       "      <th>8681</th>\n",
       "      <td>Toriko: Gourmet Monsters!</td>\n",
       "      <td>3DS</td>\n",
       "      <td>2012</td>\n",
       "      <td>Role-Playing</td>\n",
       "      <td>0.00</td>\n",
       "      <td>0.00</td>\n",
       "      <td>0.16</td>\n",
       "      <td>0.00</td>\n",
       "      <td>72.953125</td>\n",
       "      <td>6.699855</td>\n",
       "      <td>Rating Unknown</td>\n",
       "      <td>0.16</td>\n",
       "    </tr>\n",
       "    <tr>\n",
       "      <th>13230</th>\n",
       "      <td>BeatMania IIDX 4th Style: New Songs Collection</td>\n",
       "      <td>PS2</td>\n",
       "      <td>2001</td>\n",
       "      <td>Simulation</td>\n",
       "      <td>0.00</td>\n",
       "      <td>0.00</td>\n",
       "      <td>0.05</td>\n",
       "      <td>0.00</td>\n",
       "      <td>71.414110</td>\n",
       "      <td>6.964710</td>\n",
       "      <td>Rating Unknown</td>\n",
       "      <td>0.05</td>\n",
       "    </tr>\n",
       "    <tr>\n",
       "      <th>15563</th>\n",
       "      <td>Super Fruit Fall</td>\n",
       "      <td>Wii</td>\n",
       "      <td>2006</td>\n",
       "      <td>Puzzle</td>\n",
       "      <td>0.01</td>\n",
       "      <td>0.00</td>\n",
       "      <td>0.00</td>\n",
       "      <td>0.00</td>\n",
       "      <td>67.338710</td>\n",
       "      <td>6.833128</td>\n",
       "      <td>E</td>\n",
       "      <td>0.01</td>\n",
       "    </tr>\n",
       "    <tr>\n",
       "      <th>390</th>\n",
       "      <td>Metal Gear Solid V: The Phantom Pain</td>\n",
       "      <td>PS4</td>\n",
       "      <td>2015</td>\n",
       "      <td>Action</td>\n",
       "      <td>1.09</td>\n",
       "      <td>1.36</td>\n",
       "      <td>0.49</td>\n",
       "      <td>0.48</td>\n",
       "      <td>93.000000</td>\n",
       "      <td>8.200000</td>\n",
       "      <td>M</td>\n",
       "      <td>3.42</td>\n",
       "    </tr>\n",
       "    <tr>\n",
       "      <th>5262</th>\n",
       "      <td>Tiger Woods PGA Tour 14</td>\n",
       "      <td>X360</td>\n",
       "      <td>2013</td>\n",
       "      <td>Sports</td>\n",
       "      <td>0.21</td>\n",
       "      <td>0.12</td>\n",
       "      <td>0.00</td>\n",
       "      <td>0.03</td>\n",
       "      <td>77.000000</td>\n",
       "      <td>6.200000</td>\n",
       "      <td>E</td>\n",
       "      <td>0.36</td>\n",
       "    </tr>\n",
       "  </tbody>\n",
       "</table>\n",
       "</div>"
      ],
      "text/plain": [
       "                                                 name platform  \\\n",
       "12759                               Aggressive Inline       GC   \n",
       "1834                           The Beatles: Rock Band      PS3   \n",
       "322             The Legend of Zelda: Link's Awakening       GB   \n",
       "11403                               Derby Stallion 98     SNES   \n",
       "12719                                Street Fighter V       PC   \n",
       "8681                        Toriko: Gourmet Monsters!      3DS   \n",
       "13230  BeatMania IIDX 4th Style: New Songs Collection      PS2   \n",
       "15563                                Super Fruit Fall      Wii   \n",
       "390              Metal Gear Solid V: The Phantom Pain      PS4   \n",
       "5262                          Tiger Woods PGA Tour 14     X360   \n",
       "\n",
       "       year_of_release         genre  na_sales  eu_sales  jp_sales  \\\n",
       "12759             2002        Sports      0.04      0.01      0.00   \n",
       "1834              2009          Misc      0.67      0.29      0.00   \n",
       "322               1992        Action      2.21      0.96      0.54   \n",
       "11403             1998        Sports      0.00      0.00      0.08   \n",
       "12719             2016      Fighting      0.00      0.05      0.00   \n",
       "8681              2012  Role-Playing      0.00      0.00      0.16   \n",
       "13230             2001    Simulation      0.00      0.00      0.05   \n",
       "15563             2006        Puzzle      0.01      0.00      0.00   \n",
       "390               2015        Action      1.09      1.36      0.49   \n",
       "5262              2013        Sports      0.21      0.12      0.00   \n",
       "\n",
       "       other_sales  critic_score  user_score          rating  total_sales  \n",
       "12759         0.00     88.000000    7.800000               T         0.05  \n",
       "1834          0.15     88.000000    8.700000               T         1.11  \n",
       "322           0.13     85.000000    8.200000  Rating Unknown         3.84  \n",
       "11403         0.00     81.821429    8.506452  Rating Unknown         0.08  \n",
       "12719         0.00     74.000000    2.900000               T         0.05  \n",
       "8681          0.00     72.953125    6.699855  Rating Unknown         0.16  \n",
       "13230         0.00     71.414110    6.964710  Rating Unknown         0.05  \n",
       "15563         0.00     67.338710    6.833128               E         0.01  \n",
       "390           0.48     93.000000    8.200000               M         3.42  \n",
       "5262          0.03     77.000000    6.200000               E         0.36  "
      ]
     },
     "metadata": {},
     "output_type": "display_data"
    }
   ],
   "source": [
    "ice_data.info()\n",
    "display(ice_data.sample(10))"
   ]
  },
  {
   "attachments": {},
   "cell_type": "markdown",
   "metadata": {},
   "source": [
    "<h2>Data Analysis</h2>"
   ]
  },
  {
   "attachments": {},
   "cell_type": "markdown",
   "metadata": {},
   "source": [
    "Look at how many games were released in different years. Is the data for every period significant?"
   ]
  },
  {
   "cell_type": "code",
   "execution_count": 1414,
   "metadata": {},
   "outputs": [
    {
     "name": "stdout",
     "output_type": "stream",
     "text": [
      "year_of_release\n",
      "1980       9\n",
      "1981      46\n",
      "1982      36\n",
      "1983      17\n",
      "1984      14\n",
      "1985      14\n",
      "1986      21\n",
      "1987      16\n",
      "1988      15\n",
      "1989      17\n",
      "1990      16\n",
      "1991      41\n",
      "1992      43\n",
      "1993      61\n",
      "1994     121\n",
      "1995     219\n",
      "1996     263\n",
      "1997     289\n",
      "1998     379\n",
      "1999     338\n",
      "2000     350\n",
      "2001     482\n",
      "2002     830\n",
      "2003     779\n",
      "2004     764\n",
      "2005     941\n",
      "2006    1008\n",
      "2007    1452\n",
      "2008    1426\n",
      "2009    1430\n",
      "2010    1255\n",
      "2011    1136\n",
      "2012     652\n",
      "2013     544\n",
      "2014     581\n",
      "2015     606\n",
      "2016     502\n",
      "Name: name, dtype: int64\n"
     ]
    }
   ],
   "source": [
    "games_per_year = ice_data.groupby('year_of_release')['name'].count()\n",
    "\n",
    "print(games_per_year)"
   ]
  },
  {
   "attachments": {},
   "cell_type": "markdown",
   "metadata": {},
   "source": [
    "It looks the data starts to be significant in 1994, when the count is over 100. It could be that data did not start to be reported consistently before that time."
   ]
  },
  {
   "attachments": {},
   "cell_type": "markdown",
   "metadata": {},
   "source": [
    "Look at how sales varied from platform to platform. Choose the platforms with the greatest total sales and build a distribution based on data for each year. Find platforms that used to be popular but now have zero sales. How long does it generally take for new platforms to appear and old ones to fade?"
   ]
  },
  {
   "cell_type": "code",
   "execution_count": 1415,
   "metadata": {},
   "outputs": [
    {
     "data": {
      "application/vnd.plotly.v1+json": {
       "config": {
        "plotlyServerURL": "https://plot.ly"
       },
       "data": [
        {
         "alignmentgroup": "True",
         "hovertemplate": "Platform=%{x}<br>Total Sales (in USD millions)=%{y}<br>Year of Release=%{marker.color}<extra></extra>",
         "legendgroup": "",
         "marker": {
          "color": [
           1980,
           1981,
           1982,
           1983,
           1984,
           1985,
           1986,
           1987,
           1988,
           1989,
           2007,
           1994,
           1995,
           2007,
           2011,
           2012,
           2013,
           2014,
           2015,
           2016,
           1998,
           1999,
           2000,
           2001,
           2002,
           2007,
           2008,
           1985,
           2004,
           2005,
           2006,
           2007,
           2008,
           2009,
           2010,
           2011,
           2012,
           2013,
           1988,
           1989,
           1990,
           1991,
           1992,
           1994,
           1995,
           1996,
           1997,
           1998,
           1999,
           2000,
           2001,
           2007,
           2000,
           2001,
           2002,
           2003,
           2004,
           2005,
           2006,
           2007,
           2001,
           2002,
           2003,
           2004,
           2005,
           2006,
           2007,
           1990,
           1991,
           1992,
           1993,
           1994,
           1992,
           1996,
           1997,
           1998,
           1999,
           2000,
           2001,
           2002,
           2007,
           1983,
           1984,
           1985,
           1986,
           1987,
           1988,
           1989,
           1990,
           1991,
           1992,
           1993,
           1994,
           1993,
           1994,
           1995,
           1996,
           1985,
           1988,
           1992,
           1994,
           1995,
           1996,
           1997,
           1998,
           1999,
           2000,
           2001,
           2002,
           2003,
           2004,
           2005,
           2006,
           2007,
           2008,
           2009,
           2010,
           2011,
           2012,
           2013,
           2014,
           2015,
           2016,
           1996,
           1994,
           1995,
           1996,
           1997,
           1998,
           1999,
           2000,
           2001,
           2002,
           2003,
           2007,
           2000,
           2001,
           2002,
           2003,
           2004,
           2005,
           2006,
           2007,
           2008,
           2009,
           2010,
           2011,
           2006,
           2007,
           2008,
           2009,
           2010,
           2011,
           2012,
           2013,
           2014,
           2015,
           2016,
           2013,
           2014,
           2015,
           2016,
           2004,
           2005,
           2006,
           2007,
           2008,
           2009,
           2010,
           2011,
           2012,
           2013,
           2014,
           2015,
           2007,
           2011,
           2012,
           2013,
           2014,
           2015,
           2016,
           1994,
           1995,
           1996,
           1997,
           1998,
           1999,
           1993,
           1994,
           1990,
           1991,
           1992,
           1993,
           1994,
           1995,
           1996,
           1997,
           1998,
           1999,
           1995,
           1999,
           2000,
           2001,
           2006,
           2007,
           2008,
           2009,
           2010,
           2011,
           2012,
           2013,
           2014,
           2015,
           2016,
           2012,
           2013,
           2014,
           2015,
           2016,
           2005,
           2006,
           2007,
           2008,
           2009,
           2010,
           2011,
           2012,
           2013,
           2014,
           2015,
           2016,
           2000,
           2001,
           2002,
           2003,
           2004,
           2005,
           2006,
           2007,
           2008,
           2013,
           2014,
           2015,
           2016
          ],
          "coloraxis": "coloraxis",
          "pattern": {
           "shape": ""
          }
         },
         "name": "",
         "offsetgroup": "",
         "orientation": "v",
         "showlegend": false,
         "textposition": "auto",
         "type": "bar",
         "x": [
          "2600",
          "2600",
          "2600",
          "2600",
          "2600",
          "2600",
          "2600",
          "2600",
          "2600",
          "2600",
          "2600",
          "3DO",
          "3DO",
          "3DS",
          "3DS",
          "3DS",
          "3DS",
          "3DS",
          "3DS",
          "3DS",
          "DC",
          "DC",
          "DC",
          "DC",
          "DC",
          "DC",
          "DC",
          "DS",
          "DS",
          "DS",
          "DS",
          "DS",
          "DS",
          "DS",
          "DS",
          "DS",
          "DS",
          "DS",
          "GB",
          "GB",
          "GB",
          "GB",
          "GB",
          "GB",
          "GB",
          "GB",
          "GB",
          "GB",
          "GB",
          "GB",
          "GB",
          "GB",
          "GBA",
          "GBA",
          "GBA",
          "GBA",
          "GBA",
          "GBA",
          "GBA",
          "GBA",
          "GC",
          "GC",
          "GC",
          "GC",
          "GC",
          "GC",
          "GC",
          "GEN",
          "GEN",
          "GEN",
          "GEN",
          "GEN",
          "GG",
          "N64",
          "N64",
          "N64",
          "N64",
          "N64",
          "N64",
          "N64",
          "N64",
          "NES",
          "NES",
          "NES",
          "NES",
          "NES",
          "NES",
          "NES",
          "NES",
          "NES",
          "NES",
          "NES",
          "NES",
          "NG",
          "NG",
          "NG",
          "NG",
          "PC",
          "PC",
          "PC",
          "PC",
          "PC",
          "PC",
          "PC",
          "PC",
          "PC",
          "PC",
          "PC",
          "PC",
          "PC",
          "PC",
          "PC",
          "PC",
          "PC",
          "PC",
          "PC",
          "PC",
          "PC",
          "PC",
          "PC",
          "PC",
          "PC",
          "PC",
          "PCFX",
          "PS",
          "PS",
          "PS",
          "PS",
          "PS",
          "PS",
          "PS",
          "PS",
          "PS",
          "PS",
          "PS",
          "PS2",
          "PS2",
          "PS2",
          "PS2",
          "PS2",
          "PS2",
          "PS2",
          "PS2",
          "PS2",
          "PS2",
          "PS2",
          "PS2",
          "PS3",
          "PS3",
          "PS3",
          "PS3",
          "PS3",
          "PS3",
          "PS3",
          "PS3",
          "PS3",
          "PS3",
          "PS3",
          "PS4",
          "PS4",
          "PS4",
          "PS4",
          "PSP",
          "PSP",
          "PSP",
          "PSP",
          "PSP",
          "PSP",
          "PSP",
          "PSP",
          "PSP",
          "PSP",
          "PSP",
          "PSP",
          "PSV",
          "PSV",
          "PSV",
          "PSV",
          "PSV",
          "PSV",
          "PSV",
          "SAT",
          "SAT",
          "SAT",
          "SAT",
          "SAT",
          "SAT",
          "SCD",
          "SCD",
          "SNES",
          "SNES",
          "SNES",
          "SNES",
          "SNES",
          "SNES",
          "SNES",
          "SNES",
          "SNES",
          "SNES",
          "TG16",
          "WS",
          "WS",
          "WS",
          "Wii",
          "Wii",
          "Wii",
          "Wii",
          "Wii",
          "Wii",
          "Wii",
          "Wii",
          "Wii",
          "Wii",
          "Wii",
          "WiiU",
          "WiiU",
          "WiiU",
          "WiiU",
          "WiiU",
          "X360",
          "X360",
          "X360",
          "X360",
          "X360",
          "X360",
          "X360",
          "X360",
          "X360",
          "X360",
          "X360",
          "X360",
          "XB",
          "XB",
          "XB",
          "XB",
          "XB",
          "XB",
          "XB",
          "XB",
          "XB",
          "XOne",
          "XOne",
          "XOne",
          "XOne"
         ],
         "xaxis": "x",
         "y": [
          11.379999999999999,
          35.68,
          28.880000000000003,
          5.84,
          0.27,
          0.44999999999999996,
          0.67,
          1.94,
          0.74,
          0.6300000000000001,
          10.5,
          0.02,
          0.08,
          1.19,
          63.199999999999996,
          51.36000000000001,
          56.57,
          43.76,
          27.78,
          15.14,
          3.3800000000000003,
          5.16,
          5.99,
          1.07,
          0.29,
          0.02,
          0.04,
          0.02,
          17.27,
          130.14,
          119.81,
          150.27,
          145.32,
          119.54,
          85.02,
          26.18,
          11.01,
          1.54,
          1.43,
          64.97,
          4.89,
          5.57,
          25.49,
          12.18,
          3.5999999999999996,
          36.03,
          6.37,
          26.9,
          38,
          19.76,
          9.24,
          1.03,
          0.07,
          61.53,
          74.16,
          56.67,
          77.91,
          33.86,
          5.28,
          8.37,
          26.34,
          51.81,
          50.910000000000004,
          28.82,
          27.62,
          11.26,
          2.17,
          2.6,
          4.33,
          12.64,
          3.04,
          8.129999999999999,
          0.04,
          34.1,
          39.5,
          49.24,
          57.87,
          33.97,
          3.25,
          0.08,
          0.6699999999999999,
          10.96,
          50.08,
          53.440000000000005,
          36.41,
          19.759999999999998,
          45.010000000000005,
          7.85,
          15.729999999999999,
          6.109999999999999,
          1.9800000000000002,
          3.61,
          0.11,
          0.21000000000000002,
          0.8,
          0.33,
          0.1,
          0.04,
          0.03,
          3.0300000000000002,
          12.87,
          4.22,
          10.58,
          11.27,
          3.2600000000000002,
          4.74,
          4.659999999999999,
          5.470000000000001,
          8.57,
          8.84,
          10.39,
          4.37,
          2.85,
          13.040000000000001,
          12.42,
          16.91,
          24.28,
          35.03,
          23.22,
          12.38,
          13.280000000000001,
          8.520000000000001,
          5.25,
          0.03,
          6.03,
          35.96,
          94.7,
          136.17000000000002,
          169.49,
          144.53,
          96.37,
          35.59,
          6.67,
          2.0700000000000003,
          3.2800000000000002,
          39.17,
          166.43,
          205.38,
          185.93,
          220.55,
          160.98,
          106.46,
          84.48,
          51.39,
          28.91,
          5.64,
          0.45,
          20.96,
          81.5,
          116.42,
          133.03,
          142.17,
          156.78,
          107.35000000000001,
          113.25,
          47.760000000000005,
          16.82,
          3.6,
          25.99,
          100,
          118.9,
          69.25,
          7.0600000000000005,
          43.84,
          55.32,
          50.64,
          34.56,
          38.58,
          35.04,
          17.82,
          7.69,
          3.14,
          0.24,
          0.12,
          0.26,
          4.63,
          16.19,
          10.59,
          11.9,
          6.25,
          4.25,
          3.65,
          11.57,
          7.69,
          6.7700000000000005,
          3.82,
          0.09,
          1.5,
          0.36000000000000004,
          26.150000000000002,
          16.220000000000002,
          32.98,
          40.02,
          35.08,
          32.199999999999996,
          15.92,
          0.99,
          0.22000000000000003,
          0.26,
          0.16,
          0.46,
          0.68,
          0.28,
          137.15,
          169.1,
          171.32,
          206.97,
          127.95,
          59.65,
          21.71,
          8.59,
          3.75,
          1.14,
          0.18,
          17.560000000000002,
          21.650000000000002,
          22.03,
          16.35,
          4.6000000000000005,
          8.25,
          51.620000000000005,
          105.59,
          134.25,
          121.3,
          170.03,
          143.84,
          99.74000000000001,
          88.58,
          34.74,
          11.959999999999999,
          1.52,
          0.99,
          22.26,
          48.59,
          55.400000000000006,
          65.42,
          49.230000000000004,
          10.040000000000001,
          5.630000000000001,
          0.18000000000000002,
          18.96,
          54.07,
          60.14,
          26.150000000000002
         ],
         "yaxis": "y"
        }
       ],
       "layout": {
        "barmode": "relative",
        "coloraxis": {
         "colorbar": {
          "title": {
           "text": "Year of Release"
          }
         },
         "colorscale": [
          [
           0,
           "#0d0887"
          ],
          [
           0.1111111111111111,
           "#46039f"
          ],
          [
           0.2222222222222222,
           "#7201a8"
          ],
          [
           0.3333333333333333,
           "#9c179e"
          ],
          [
           0.4444444444444444,
           "#bd3786"
          ],
          [
           0.5555555555555556,
           "#d8576b"
          ],
          [
           0.6666666666666666,
           "#ed7953"
          ],
          [
           0.7777777777777778,
           "#fb9f3a"
          ],
          [
           0.8888888888888888,
           "#fdca26"
          ],
          [
           1,
           "#f0f921"
          ]
         ]
        },
        "legend": {
         "tracegroupgap": 0
        },
        "template": {
         "data": {
          "bar": [
           {
            "error_x": {
             "color": "#2a3f5f"
            },
            "error_y": {
             "color": "#2a3f5f"
            },
            "marker": {
             "line": {
              "color": "#E5ECF6",
              "width": 0.5
             },
             "pattern": {
              "fillmode": "overlay",
              "size": 10,
              "solidity": 0.2
             }
            },
            "type": "bar"
           }
          ],
          "barpolar": [
           {
            "marker": {
             "line": {
              "color": "#E5ECF6",
              "width": 0.5
             },
             "pattern": {
              "fillmode": "overlay",
              "size": 10,
              "solidity": 0.2
             }
            },
            "type": "barpolar"
           }
          ],
          "carpet": [
           {
            "aaxis": {
             "endlinecolor": "#2a3f5f",
             "gridcolor": "white",
             "linecolor": "white",
             "minorgridcolor": "white",
             "startlinecolor": "#2a3f5f"
            },
            "baxis": {
             "endlinecolor": "#2a3f5f",
             "gridcolor": "white",
             "linecolor": "white",
             "minorgridcolor": "white",
             "startlinecolor": "#2a3f5f"
            },
            "type": "carpet"
           }
          ],
          "choropleth": [
           {
            "colorbar": {
             "outlinewidth": 0,
             "ticks": ""
            },
            "type": "choropleth"
           }
          ],
          "contour": [
           {
            "colorbar": {
             "outlinewidth": 0,
             "ticks": ""
            },
            "colorscale": [
             [
              0,
              "#0d0887"
             ],
             [
              0.1111111111111111,
              "#46039f"
             ],
             [
              0.2222222222222222,
              "#7201a8"
             ],
             [
              0.3333333333333333,
              "#9c179e"
             ],
             [
              0.4444444444444444,
              "#bd3786"
             ],
             [
              0.5555555555555556,
              "#d8576b"
             ],
             [
              0.6666666666666666,
              "#ed7953"
             ],
             [
              0.7777777777777778,
              "#fb9f3a"
             ],
             [
              0.8888888888888888,
              "#fdca26"
             ],
             [
              1,
              "#f0f921"
             ]
            ],
            "type": "contour"
           }
          ],
          "contourcarpet": [
           {
            "colorbar": {
             "outlinewidth": 0,
             "ticks": ""
            },
            "type": "contourcarpet"
           }
          ],
          "heatmap": [
           {
            "colorbar": {
             "outlinewidth": 0,
             "ticks": ""
            },
            "colorscale": [
             [
              0,
              "#0d0887"
             ],
             [
              0.1111111111111111,
              "#46039f"
             ],
             [
              0.2222222222222222,
              "#7201a8"
             ],
             [
              0.3333333333333333,
              "#9c179e"
             ],
             [
              0.4444444444444444,
              "#bd3786"
             ],
             [
              0.5555555555555556,
              "#d8576b"
             ],
             [
              0.6666666666666666,
              "#ed7953"
             ],
             [
              0.7777777777777778,
              "#fb9f3a"
             ],
             [
              0.8888888888888888,
              "#fdca26"
             ],
             [
              1,
              "#f0f921"
             ]
            ],
            "type": "heatmap"
           }
          ],
          "heatmapgl": [
           {
            "colorbar": {
             "outlinewidth": 0,
             "ticks": ""
            },
            "colorscale": [
             [
              0,
              "#0d0887"
             ],
             [
              0.1111111111111111,
              "#46039f"
             ],
             [
              0.2222222222222222,
              "#7201a8"
             ],
             [
              0.3333333333333333,
              "#9c179e"
             ],
             [
              0.4444444444444444,
              "#bd3786"
             ],
             [
              0.5555555555555556,
              "#d8576b"
             ],
             [
              0.6666666666666666,
              "#ed7953"
             ],
             [
              0.7777777777777778,
              "#fb9f3a"
             ],
             [
              0.8888888888888888,
              "#fdca26"
             ],
             [
              1,
              "#f0f921"
             ]
            ],
            "type": "heatmapgl"
           }
          ],
          "histogram": [
           {
            "marker": {
             "pattern": {
              "fillmode": "overlay",
              "size": 10,
              "solidity": 0.2
             }
            },
            "type": "histogram"
           }
          ],
          "histogram2d": [
           {
            "colorbar": {
             "outlinewidth": 0,
             "ticks": ""
            },
            "colorscale": [
             [
              0,
              "#0d0887"
             ],
             [
              0.1111111111111111,
              "#46039f"
             ],
             [
              0.2222222222222222,
              "#7201a8"
             ],
             [
              0.3333333333333333,
              "#9c179e"
             ],
             [
              0.4444444444444444,
              "#bd3786"
             ],
             [
              0.5555555555555556,
              "#d8576b"
             ],
             [
              0.6666666666666666,
              "#ed7953"
             ],
             [
              0.7777777777777778,
              "#fb9f3a"
             ],
             [
              0.8888888888888888,
              "#fdca26"
             ],
             [
              1,
              "#f0f921"
             ]
            ],
            "type": "histogram2d"
           }
          ],
          "histogram2dcontour": [
           {
            "colorbar": {
             "outlinewidth": 0,
             "ticks": ""
            },
            "colorscale": [
             [
              0,
              "#0d0887"
             ],
             [
              0.1111111111111111,
              "#46039f"
             ],
             [
              0.2222222222222222,
              "#7201a8"
             ],
             [
              0.3333333333333333,
              "#9c179e"
             ],
             [
              0.4444444444444444,
              "#bd3786"
             ],
             [
              0.5555555555555556,
              "#d8576b"
             ],
             [
              0.6666666666666666,
              "#ed7953"
             ],
             [
              0.7777777777777778,
              "#fb9f3a"
             ],
             [
              0.8888888888888888,
              "#fdca26"
             ],
             [
              1,
              "#f0f921"
             ]
            ],
            "type": "histogram2dcontour"
           }
          ],
          "mesh3d": [
           {
            "colorbar": {
             "outlinewidth": 0,
             "ticks": ""
            },
            "type": "mesh3d"
           }
          ],
          "parcoords": [
           {
            "line": {
             "colorbar": {
              "outlinewidth": 0,
              "ticks": ""
             }
            },
            "type": "parcoords"
           }
          ],
          "pie": [
           {
            "automargin": true,
            "type": "pie"
           }
          ],
          "scatter": [
           {
            "fillpattern": {
             "fillmode": "overlay",
             "size": 10,
             "solidity": 0.2
            },
            "type": "scatter"
           }
          ],
          "scatter3d": [
           {
            "line": {
             "colorbar": {
              "outlinewidth": 0,
              "ticks": ""
             }
            },
            "marker": {
             "colorbar": {
              "outlinewidth": 0,
              "ticks": ""
             }
            },
            "type": "scatter3d"
           }
          ],
          "scattercarpet": [
           {
            "marker": {
             "colorbar": {
              "outlinewidth": 0,
              "ticks": ""
             }
            },
            "type": "scattercarpet"
           }
          ],
          "scattergeo": [
           {
            "marker": {
             "colorbar": {
              "outlinewidth": 0,
              "ticks": ""
             }
            },
            "type": "scattergeo"
           }
          ],
          "scattergl": [
           {
            "marker": {
             "colorbar": {
              "outlinewidth": 0,
              "ticks": ""
             }
            },
            "type": "scattergl"
           }
          ],
          "scattermapbox": [
           {
            "marker": {
             "colorbar": {
              "outlinewidth": 0,
              "ticks": ""
             }
            },
            "type": "scattermapbox"
           }
          ],
          "scatterpolar": [
           {
            "marker": {
             "colorbar": {
              "outlinewidth": 0,
              "ticks": ""
             }
            },
            "type": "scatterpolar"
           }
          ],
          "scatterpolargl": [
           {
            "marker": {
             "colorbar": {
              "outlinewidth": 0,
              "ticks": ""
             }
            },
            "type": "scatterpolargl"
           }
          ],
          "scatterternary": [
           {
            "marker": {
             "colorbar": {
              "outlinewidth": 0,
              "ticks": ""
             }
            },
            "type": "scatterternary"
           }
          ],
          "surface": [
           {
            "colorbar": {
             "outlinewidth": 0,
             "ticks": ""
            },
            "colorscale": [
             [
              0,
              "#0d0887"
             ],
             [
              0.1111111111111111,
              "#46039f"
             ],
             [
              0.2222222222222222,
              "#7201a8"
             ],
             [
              0.3333333333333333,
              "#9c179e"
             ],
             [
              0.4444444444444444,
              "#bd3786"
             ],
             [
              0.5555555555555556,
              "#d8576b"
             ],
             [
              0.6666666666666666,
              "#ed7953"
             ],
             [
              0.7777777777777778,
              "#fb9f3a"
             ],
             [
              0.8888888888888888,
              "#fdca26"
             ],
             [
              1,
              "#f0f921"
             ]
            ],
            "type": "surface"
           }
          ],
          "table": [
           {
            "cells": {
             "fill": {
              "color": "#EBF0F8"
             },
             "line": {
              "color": "white"
             }
            },
            "header": {
             "fill": {
              "color": "#C8D4E3"
             },
             "line": {
              "color": "white"
             }
            },
            "type": "table"
           }
          ]
         },
         "layout": {
          "annotationdefaults": {
           "arrowcolor": "#2a3f5f",
           "arrowhead": 0,
           "arrowwidth": 1
          },
          "autotypenumbers": "strict",
          "coloraxis": {
           "colorbar": {
            "outlinewidth": 0,
            "ticks": ""
           }
          },
          "colorscale": {
           "diverging": [
            [
             0,
             "#8e0152"
            ],
            [
             0.1,
             "#c51b7d"
            ],
            [
             0.2,
             "#de77ae"
            ],
            [
             0.3,
             "#f1b6da"
            ],
            [
             0.4,
             "#fde0ef"
            ],
            [
             0.5,
             "#f7f7f7"
            ],
            [
             0.6,
             "#e6f5d0"
            ],
            [
             0.7,
             "#b8e186"
            ],
            [
             0.8,
             "#7fbc41"
            ],
            [
             0.9,
             "#4d9221"
            ],
            [
             1,
             "#276419"
            ]
           ],
           "sequential": [
            [
             0,
             "#0d0887"
            ],
            [
             0.1111111111111111,
             "#46039f"
            ],
            [
             0.2222222222222222,
             "#7201a8"
            ],
            [
             0.3333333333333333,
             "#9c179e"
            ],
            [
             0.4444444444444444,
             "#bd3786"
            ],
            [
             0.5555555555555556,
             "#d8576b"
            ],
            [
             0.6666666666666666,
             "#ed7953"
            ],
            [
             0.7777777777777778,
             "#fb9f3a"
            ],
            [
             0.8888888888888888,
             "#fdca26"
            ],
            [
             1,
             "#f0f921"
            ]
           ],
           "sequentialminus": [
            [
             0,
             "#0d0887"
            ],
            [
             0.1111111111111111,
             "#46039f"
            ],
            [
             0.2222222222222222,
             "#7201a8"
            ],
            [
             0.3333333333333333,
             "#9c179e"
            ],
            [
             0.4444444444444444,
             "#bd3786"
            ],
            [
             0.5555555555555556,
             "#d8576b"
            ],
            [
             0.6666666666666666,
             "#ed7953"
            ],
            [
             0.7777777777777778,
             "#fb9f3a"
            ],
            [
             0.8888888888888888,
             "#fdca26"
            ],
            [
             1,
             "#f0f921"
            ]
           ]
          },
          "colorway": [
           "#636efa",
           "#EF553B",
           "#00cc96",
           "#ab63fa",
           "#FFA15A",
           "#19d3f3",
           "#FF6692",
           "#B6E880",
           "#FF97FF",
           "#FECB52"
          ],
          "font": {
           "color": "#2a3f5f"
          },
          "geo": {
           "bgcolor": "white",
           "lakecolor": "white",
           "landcolor": "#E5ECF6",
           "showlakes": true,
           "showland": true,
           "subunitcolor": "white"
          },
          "hoverlabel": {
           "align": "left"
          },
          "hovermode": "closest",
          "mapbox": {
           "style": "light"
          },
          "paper_bgcolor": "white",
          "plot_bgcolor": "#E5ECF6",
          "polar": {
           "angularaxis": {
            "gridcolor": "white",
            "linecolor": "white",
            "ticks": ""
           },
           "bgcolor": "#E5ECF6",
           "radialaxis": {
            "gridcolor": "white",
            "linecolor": "white",
            "ticks": ""
           }
          },
          "scene": {
           "xaxis": {
            "backgroundcolor": "#E5ECF6",
            "gridcolor": "white",
            "gridwidth": 2,
            "linecolor": "white",
            "showbackground": true,
            "ticks": "",
            "zerolinecolor": "white"
           },
           "yaxis": {
            "backgroundcolor": "#E5ECF6",
            "gridcolor": "white",
            "gridwidth": 2,
            "linecolor": "white",
            "showbackground": true,
            "ticks": "",
            "zerolinecolor": "white"
           },
           "zaxis": {
            "backgroundcolor": "#E5ECF6",
            "gridcolor": "white",
            "gridwidth": 2,
            "linecolor": "white",
            "showbackground": true,
            "ticks": "",
            "zerolinecolor": "white"
           }
          },
          "shapedefaults": {
           "line": {
            "color": "#2a3f5f"
           }
          },
          "ternary": {
           "aaxis": {
            "gridcolor": "white",
            "linecolor": "white",
            "ticks": ""
           },
           "baxis": {
            "gridcolor": "white",
            "linecolor": "white",
            "ticks": ""
           },
           "bgcolor": "#E5ECF6",
           "caxis": {
            "gridcolor": "white",
            "linecolor": "white",
            "ticks": ""
           }
          },
          "title": {
           "x": 0.05
          },
          "xaxis": {
           "automargin": true,
           "gridcolor": "white",
           "linecolor": "white",
           "ticks": "",
           "title": {
            "standoff": 15
           },
           "zerolinecolor": "white",
           "zerolinewidth": 2
          },
          "yaxis": {
           "automargin": true,
           "gridcolor": "white",
           "linecolor": "white",
           "ticks": "",
           "title": {
            "standoff": 15
           },
           "zerolinecolor": "white",
           "zerolinewidth": 2
          }
         }
        },
        "title": {
         "text": "Total Sales (in USD millions) per Platform per Year"
        },
        "xaxis": {
         "anchor": "y",
         "domain": [
          0,
          1
         ],
         "title": {
          "text": "Platform"
         }
        },
        "yaxis": {
         "anchor": "x",
         "domain": [
          0,
          1
         ],
         "title": {
          "text": "Total Sales (in USD millions)"
         }
        }
       }
      }
     },
     "metadata": {},
     "output_type": "display_data"
    },
    {
     "data": {
      "application/vnd.plotly.v1+json": {
       "config": {
        "plotlyServerURL": "https://plot.ly"
       },
       "data": [
        {
         "alignmentgroup": "True",
         "hovertemplate": "Platforms with Greatest Total Sales=%{x}<br>Total Sales (in USD millions)=%{y}<br>Year of Release=%{marker.color}<extra></extra>",
         "legendgroup": "",
         "marker": {
          "color": [
           1985,
           2004,
           2005,
           2006,
           2007,
           2008,
           2009,
           2010,
           2011,
           2012,
           2013,
           1994,
           1995,
           1996,
           1997,
           1998,
           1999,
           2000,
           2001,
           2002,
           2003,
           2007,
           2000,
           2001,
           2002,
           2003,
           2004,
           2005,
           2006,
           2007,
           2008,
           2009,
           2010,
           2011,
           2006,
           2007,
           2008,
           2009,
           2010,
           2011,
           2012,
           2013,
           2014,
           2015,
           2016,
           2006,
           2007,
           2008,
           2009,
           2010,
           2011,
           2012,
           2013,
           2014,
           2015,
           2016,
           2005,
           2006,
           2007,
           2008,
           2009,
           2010,
           2011,
           2012,
           2013,
           2014,
           2015,
           2016
          ],
          "coloraxis": "coloraxis",
          "pattern": {
           "shape": ""
          }
         },
         "name": "",
         "offsetgroup": "",
         "orientation": "v",
         "showlegend": false,
         "textposition": "auto",
         "type": "bar",
         "x": [
          "DS",
          "DS",
          "DS",
          "DS",
          "DS",
          "DS",
          "DS",
          "DS",
          "DS",
          "DS",
          "DS",
          "PS",
          "PS",
          "PS",
          "PS",
          "PS",
          "PS",
          "PS",
          "PS",
          "PS",
          "PS",
          "PS",
          "PS2",
          "PS2",
          "PS2",
          "PS2",
          "PS2",
          "PS2",
          "PS2",
          "PS2",
          "PS2",
          "PS2",
          "PS2",
          "PS2",
          "PS3",
          "PS3",
          "PS3",
          "PS3",
          "PS3",
          "PS3",
          "PS3",
          "PS3",
          "PS3",
          "PS3",
          "PS3",
          "Wii",
          "Wii",
          "Wii",
          "Wii",
          "Wii",
          "Wii",
          "Wii",
          "Wii",
          "Wii",
          "Wii",
          "Wii",
          "X360",
          "X360",
          "X360",
          "X360",
          "X360",
          "X360",
          "X360",
          "X360",
          "X360",
          "X360",
          "X360",
          "X360"
         ],
         "xaxis": "x",
         "y": [
          0.02,
          17.27,
          130.14,
          119.81,
          150.27,
          145.32,
          119.54,
          85.02,
          26.18,
          11.01,
          1.54,
          6.03,
          35.96,
          94.7,
          136.17000000000002,
          169.49,
          144.53,
          96.37,
          35.59,
          6.67,
          2.0700000000000003,
          3.2800000000000002,
          39.17,
          166.43,
          205.38,
          185.93,
          220.55,
          160.98,
          106.46,
          84.48,
          51.39,
          28.91,
          5.64,
          0.45,
          20.96,
          81.5,
          116.42,
          133.03,
          142.17,
          156.78,
          107.35000000000001,
          113.25,
          47.760000000000005,
          16.82,
          3.6,
          137.15,
          169.1,
          171.32,
          206.97,
          127.95,
          59.65,
          21.71,
          8.59,
          3.75,
          1.14,
          0.18,
          8.25,
          51.620000000000005,
          105.59,
          134.25,
          121.3,
          170.03,
          143.84,
          99.74000000000001,
          88.58,
          34.74,
          11.959999999999999,
          1.52
         ],
         "yaxis": "y"
        }
       ],
       "layout": {
        "barmode": "relative",
        "coloraxis": {
         "colorbar": {
          "title": {
           "text": "Year of Release"
          }
         },
         "colorscale": [
          [
           0,
           "#0d0887"
          ],
          [
           0.1111111111111111,
           "#46039f"
          ],
          [
           0.2222222222222222,
           "#7201a8"
          ],
          [
           0.3333333333333333,
           "#9c179e"
          ],
          [
           0.4444444444444444,
           "#bd3786"
          ],
          [
           0.5555555555555556,
           "#d8576b"
          ],
          [
           0.6666666666666666,
           "#ed7953"
          ],
          [
           0.7777777777777778,
           "#fb9f3a"
          ],
          [
           0.8888888888888888,
           "#fdca26"
          ],
          [
           1,
           "#f0f921"
          ]
         ]
        },
        "legend": {
         "tracegroupgap": 0
        },
        "template": {
         "data": {
          "bar": [
           {
            "error_x": {
             "color": "#2a3f5f"
            },
            "error_y": {
             "color": "#2a3f5f"
            },
            "marker": {
             "line": {
              "color": "#E5ECF6",
              "width": 0.5
             },
             "pattern": {
              "fillmode": "overlay",
              "size": 10,
              "solidity": 0.2
             }
            },
            "type": "bar"
           }
          ],
          "barpolar": [
           {
            "marker": {
             "line": {
              "color": "#E5ECF6",
              "width": 0.5
             },
             "pattern": {
              "fillmode": "overlay",
              "size": 10,
              "solidity": 0.2
             }
            },
            "type": "barpolar"
           }
          ],
          "carpet": [
           {
            "aaxis": {
             "endlinecolor": "#2a3f5f",
             "gridcolor": "white",
             "linecolor": "white",
             "minorgridcolor": "white",
             "startlinecolor": "#2a3f5f"
            },
            "baxis": {
             "endlinecolor": "#2a3f5f",
             "gridcolor": "white",
             "linecolor": "white",
             "minorgridcolor": "white",
             "startlinecolor": "#2a3f5f"
            },
            "type": "carpet"
           }
          ],
          "choropleth": [
           {
            "colorbar": {
             "outlinewidth": 0,
             "ticks": ""
            },
            "type": "choropleth"
           }
          ],
          "contour": [
           {
            "colorbar": {
             "outlinewidth": 0,
             "ticks": ""
            },
            "colorscale": [
             [
              0,
              "#0d0887"
             ],
             [
              0.1111111111111111,
              "#46039f"
             ],
             [
              0.2222222222222222,
              "#7201a8"
             ],
             [
              0.3333333333333333,
              "#9c179e"
             ],
             [
              0.4444444444444444,
              "#bd3786"
             ],
             [
              0.5555555555555556,
              "#d8576b"
             ],
             [
              0.6666666666666666,
              "#ed7953"
             ],
             [
              0.7777777777777778,
              "#fb9f3a"
             ],
             [
              0.8888888888888888,
              "#fdca26"
             ],
             [
              1,
              "#f0f921"
             ]
            ],
            "type": "contour"
           }
          ],
          "contourcarpet": [
           {
            "colorbar": {
             "outlinewidth": 0,
             "ticks": ""
            },
            "type": "contourcarpet"
           }
          ],
          "heatmap": [
           {
            "colorbar": {
             "outlinewidth": 0,
             "ticks": ""
            },
            "colorscale": [
             [
              0,
              "#0d0887"
             ],
             [
              0.1111111111111111,
              "#46039f"
             ],
             [
              0.2222222222222222,
              "#7201a8"
             ],
             [
              0.3333333333333333,
              "#9c179e"
             ],
             [
              0.4444444444444444,
              "#bd3786"
             ],
             [
              0.5555555555555556,
              "#d8576b"
             ],
             [
              0.6666666666666666,
              "#ed7953"
             ],
             [
              0.7777777777777778,
              "#fb9f3a"
             ],
             [
              0.8888888888888888,
              "#fdca26"
             ],
             [
              1,
              "#f0f921"
             ]
            ],
            "type": "heatmap"
           }
          ],
          "heatmapgl": [
           {
            "colorbar": {
             "outlinewidth": 0,
             "ticks": ""
            },
            "colorscale": [
             [
              0,
              "#0d0887"
             ],
             [
              0.1111111111111111,
              "#46039f"
             ],
             [
              0.2222222222222222,
              "#7201a8"
             ],
             [
              0.3333333333333333,
              "#9c179e"
             ],
             [
              0.4444444444444444,
              "#bd3786"
             ],
             [
              0.5555555555555556,
              "#d8576b"
             ],
             [
              0.6666666666666666,
              "#ed7953"
             ],
             [
              0.7777777777777778,
              "#fb9f3a"
             ],
             [
              0.8888888888888888,
              "#fdca26"
             ],
             [
              1,
              "#f0f921"
             ]
            ],
            "type": "heatmapgl"
           }
          ],
          "histogram": [
           {
            "marker": {
             "pattern": {
              "fillmode": "overlay",
              "size": 10,
              "solidity": 0.2
             }
            },
            "type": "histogram"
           }
          ],
          "histogram2d": [
           {
            "colorbar": {
             "outlinewidth": 0,
             "ticks": ""
            },
            "colorscale": [
             [
              0,
              "#0d0887"
             ],
             [
              0.1111111111111111,
              "#46039f"
             ],
             [
              0.2222222222222222,
              "#7201a8"
             ],
             [
              0.3333333333333333,
              "#9c179e"
             ],
             [
              0.4444444444444444,
              "#bd3786"
             ],
             [
              0.5555555555555556,
              "#d8576b"
             ],
             [
              0.6666666666666666,
              "#ed7953"
             ],
             [
              0.7777777777777778,
              "#fb9f3a"
             ],
             [
              0.8888888888888888,
              "#fdca26"
             ],
             [
              1,
              "#f0f921"
             ]
            ],
            "type": "histogram2d"
           }
          ],
          "histogram2dcontour": [
           {
            "colorbar": {
             "outlinewidth": 0,
             "ticks": ""
            },
            "colorscale": [
             [
              0,
              "#0d0887"
             ],
             [
              0.1111111111111111,
              "#46039f"
             ],
             [
              0.2222222222222222,
              "#7201a8"
             ],
             [
              0.3333333333333333,
              "#9c179e"
             ],
             [
              0.4444444444444444,
              "#bd3786"
             ],
             [
              0.5555555555555556,
              "#d8576b"
             ],
             [
              0.6666666666666666,
              "#ed7953"
             ],
             [
              0.7777777777777778,
              "#fb9f3a"
             ],
             [
              0.8888888888888888,
              "#fdca26"
             ],
             [
              1,
              "#f0f921"
             ]
            ],
            "type": "histogram2dcontour"
           }
          ],
          "mesh3d": [
           {
            "colorbar": {
             "outlinewidth": 0,
             "ticks": ""
            },
            "type": "mesh3d"
           }
          ],
          "parcoords": [
           {
            "line": {
             "colorbar": {
              "outlinewidth": 0,
              "ticks": ""
             }
            },
            "type": "parcoords"
           }
          ],
          "pie": [
           {
            "automargin": true,
            "type": "pie"
           }
          ],
          "scatter": [
           {
            "fillpattern": {
             "fillmode": "overlay",
             "size": 10,
             "solidity": 0.2
            },
            "type": "scatter"
           }
          ],
          "scatter3d": [
           {
            "line": {
             "colorbar": {
              "outlinewidth": 0,
              "ticks": ""
             }
            },
            "marker": {
             "colorbar": {
              "outlinewidth": 0,
              "ticks": ""
             }
            },
            "type": "scatter3d"
           }
          ],
          "scattercarpet": [
           {
            "marker": {
             "colorbar": {
              "outlinewidth": 0,
              "ticks": ""
             }
            },
            "type": "scattercarpet"
           }
          ],
          "scattergeo": [
           {
            "marker": {
             "colorbar": {
              "outlinewidth": 0,
              "ticks": ""
             }
            },
            "type": "scattergeo"
           }
          ],
          "scattergl": [
           {
            "marker": {
             "colorbar": {
              "outlinewidth": 0,
              "ticks": ""
             }
            },
            "type": "scattergl"
           }
          ],
          "scattermapbox": [
           {
            "marker": {
             "colorbar": {
              "outlinewidth": 0,
              "ticks": ""
             }
            },
            "type": "scattermapbox"
           }
          ],
          "scatterpolar": [
           {
            "marker": {
             "colorbar": {
              "outlinewidth": 0,
              "ticks": ""
             }
            },
            "type": "scatterpolar"
           }
          ],
          "scatterpolargl": [
           {
            "marker": {
             "colorbar": {
              "outlinewidth": 0,
              "ticks": ""
             }
            },
            "type": "scatterpolargl"
           }
          ],
          "scatterternary": [
           {
            "marker": {
             "colorbar": {
              "outlinewidth": 0,
              "ticks": ""
             }
            },
            "type": "scatterternary"
           }
          ],
          "surface": [
           {
            "colorbar": {
             "outlinewidth": 0,
             "ticks": ""
            },
            "colorscale": [
             [
              0,
              "#0d0887"
             ],
             [
              0.1111111111111111,
              "#46039f"
             ],
             [
              0.2222222222222222,
              "#7201a8"
             ],
             [
              0.3333333333333333,
              "#9c179e"
             ],
             [
              0.4444444444444444,
              "#bd3786"
             ],
             [
              0.5555555555555556,
              "#d8576b"
             ],
             [
              0.6666666666666666,
              "#ed7953"
             ],
             [
              0.7777777777777778,
              "#fb9f3a"
             ],
             [
              0.8888888888888888,
              "#fdca26"
             ],
             [
              1,
              "#f0f921"
             ]
            ],
            "type": "surface"
           }
          ],
          "table": [
           {
            "cells": {
             "fill": {
              "color": "#EBF0F8"
             },
             "line": {
              "color": "white"
             }
            },
            "header": {
             "fill": {
              "color": "#C8D4E3"
             },
             "line": {
              "color": "white"
             }
            },
            "type": "table"
           }
          ]
         },
         "layout": {
          "annotationdefaults": {
           "arrowcolor": "#2a3f5f",
           "arrowhead": 0,
           "arrowwidth": 1
          },
          "autotypenumbers": "strict",
          "coloraxis": {
           "colorbar": {
            "outlinewidth": 0,
            "ticks": ""
           }
          },
          "colorscale": {
           "diverging": [
            [
             0,
             "#8e0152"
            ],
            [
             0.1,
             "#c51b7d"
            ],
            [
             0.2,
             "#de77ae"
            ],
            [
             0.3,
             "#f1b6da"
            ],
            [
             0.4,
             "#fde0ef"
            ],
            [
             0.5,
             "#f7f7f7"
            ],
            [
             0.6,
             "#e6f5d0"
            ],
            [
             0.7,
             "#b8e186"
            ],
            [
             0.8,
             "#7fbc41"
            ],
            [
             0.9,
             "#4d9221"
            ],
            [
             1,
             "#276419"
            ]
           ],
           "sequential": [
            [
             0,
             "#0d0887"
            ],
            [
             0.1111111111111111,
             "#46039f"
            ],
            [
             0.2222222222222222,
             "#7201a8"
            ],
            [
             0.3333333333333333,
             "#9c179e"
            ],
            [
             0.4444444444444444,
             "#bd3786"
            ],
            [
             0.5555555555555556,
             "#d8576b"
            ],
            [
             0.6666666666666666,
             "#ed7953"
            ],
            [
             0.7777777777777778,
             "#fb9f3a"
            ],
            [
             0.8888888888888888,
             "#fdca26"
            ],
            [
             1,
             "#f0f921"
            ]
           ],
           "sequentialminus": [
            [
             0,
             "#0d0887"
            ],
            [
             0.1111111111111111,
             "#46039f"
            ],
            [
             0.2222222222222222,
             "#7201a8"
            ],
            [
             0.3333333333333333,
             "#9c179e"
            ],
            [
             0.4444444444444444,
             "#bd3786"
            ],
            [
             0.5555555555555556,
             "#d8576b"
            ],
            [
             0.6666666666666666,
             "#ed7953"
            ],
            [
             0.7777777777777778,
             "#fb9f3a"
            ],
            [
             0.8888888888888888,
             "#fdca26"
            ],
            [
             1,
             "#f0f921"
            ]
           ]
          },
          "colorway": [
           "#636efa",
           "#EF553B",
           "#00cc96",
           "#ab63fa",
           "#FFA15A",
           "#19d3f3",
           "#FF6692",
           "#B6E880",
           "#FF97FF",
           "#FECB52"
          ],
          "font": {
           "color": "#2a3f5f"
          },
          "geo": {
           "bgcolor": "white",
           "lakecolor": "white",
           "landcolor": "#E5ECF6",
           "showlakes": true,
           "showland": true,
           "subunitcolor": "white"
          },
          "hoverlabel": {
           "align": "left"
          },
          "hovermode": "closest",
          "mapbox": {
           "style": "light"
          },
          "paper_bgcolor": "white",
          "plot_bgcolor": "#E5ECF6",
          "polar": {
           "angularaxis": {
            "gridcolor": "white",
            "linecolor": "white",
            "ticks": ""
           },
           "bgcolor": "#E5ECF6",
           "radialaxis": {
            "gridcolor": "white",
            "linecolor": "white",
            "ticks": ""
           }
          },
          "scene": {
           "xaxis": {
            "backgroundcolor": "#E5ECF6",
            "gridcolor": "white",
            "gridwidth": 2,
            "linecolor": "white",
            "showbackground": true,
            "ticks": "",
            "zerolinecolor": "white"
           },
           "yaxis": {
            "backgroundcolor": "#E5ECF6",
            "gridcolor": "white",
            "gridwidth": 2,
            "linecolor": "white",
            "showbackground": true,
            "ticks": "",
            "zerolinecolor": "white"
           },
           "zaxis": {
            "backgroundcolor": "#E5ECF6",
            "gridcolor": "white",
            "gridwidth": 2,
            "linecolor": "white",
            "showbackground": true,
            "ticks": "",
            "zerolinecolor": "white"
           }
          },
          "shapedefaults": {
           "line": {
            "color": "#2a3f5f"
           }
          },
          "ternary": {
           "aaxis": {
            "gridcolor": "white",
            "linecolor": "white",
            "ticks": ""
           },
           "baxis": {
            "gridcolor": "white",
            "linecolor": "white",
            "ticks": ""
           },
           "bgcolor": "#E5ECF6",
           "caxis": {
            "gridcolor": "white",
            "linecolor": "white",
            "ticks": ""
           }
          },
          "title": {
           "x": 0.05
          },
          "xaxis": {
           "automargin": true,
           "gridcolor": "white",
           "linecolor": "white",
           "ticks": "",
           "title": {
            "standoff": 15
           },
           "zerolinecolor": "white",
           "zerolinewidth": 2
          },
          "yaxis": {
           "automargin": true,
           "gridcolor": "white",
           "linecolor": "white",
           "ticks": "",
           "title": {
            "standoff": 15
           },
           "zerolinecolor": "white",
           "zerolinewidth": 2
          }
         }
        },
        "title": {
         "text": "Total Annual Sales (in USD millions) for Platforms with Greatest Sales"
        },
        "xaxis": {
         "anchor": "y",
         "domain": [
          0,
          1
         ],
         "title": {
          "text": "Platforms with Greatest Total Sales"
         }
        },
        "yaxis": {
         "anchor": "x",
         "domain": [
          0,
          1
         ],
         "title": {
          "text": "Total Sales (in USD millions)"
         }
        }
       }
      }
     },
     "metadata": {},
     "output_type": "display_data"
    },
    {
     "data": {
      "application/vnd.plotly.v1+json": {
       "config": {
        "plotlyServerURL": "https://plot.ly"
       },
       "data": [
        {
         "hovertemplate": "Platform=%{x}<br>Year of Release=%{y}<br>Total Sales (in USD millions)=%{marker.color}<extra></extra>",
         "legendgroup": "",
         "marker": {
          "color": [
           220.55,
           206.97,
           205.38,
           185.93,
           171.32,
           170.03,
           169.49,
           169.1,
           166.43,
           160.98,
           156.78,
           150.27,
           145.32,
           144.53,
           143.84,
           142.17,
           137.15,
           136.17000000000002,
           134.25,
           133.03,
           130.14,
           127.95,
           121.3,
           119.81,
           119.54,
           118.9,
           116.42,
           113.25,
           107.35000000000001,
           106.46,
           105.59,
           100,
           99.74000000000001,
           96.37,
           94.7,
           88.58,
           85.02,
           84.48,
           81.5,
           77.91,
           74.16,
           69.25,
           65.42,
           64.97,
           63.199999999999996,
           61.53,
           60.14,
           59.65,
           57.87,
           56.67,
           56.57,
           55.400000000000006,
           55.32,
           54.07,
           53.440000000000005,
           51.81,
           51.620000000000005,
           51.39,
           51.36000000000001,
           50.910000000000004,
           50.64,
           50.08,
           49.24,
           49.230000000000004,
           48.59,
           47.760000000000005,
           45.010000000000005,
           43.84,
           43.76,
           40.02,
           39.5,
           39.17,
           38.58,
           38,
           36.41,
           36.03,
           35.96,
           35.68,
           35.59,
           35.08,
           35.04,
           35.03,
           34.74,
           34.56,
           34.1,
           33.97,
           33.86,
           32.98,
           32.199999999999996,
           28.91,
           28.880000000000003,
           28.82,
           27.78,
           27.62,
           26.9,
           26.34,
           26.18,
           26.150000000000002,
           26.150000000000002,
           25.99,
           25.49,
           24.28,
           23.22,
           22.26,
           22.03,
           21.71,
           21.650000000000002,
           20.96,
           19.76,
           19.759999999999998,
           18.96,
           17.82,
           17.560000000000002,
           17.27,
           16.91,
           16.82,
           16.35,
           16.220000000000002,
           16.19,
           15.92,
           15.729999999999999,
           15.14,
           13.280000000000001,
           13.040000000000001,
           12.87,
           12.64,
           12.42,
           12.38,
           12.18,
           11.959999999999999,
           11.9,
           11.57,
           11.379999999999999,
           11.27,
           11.26,
           11.01,
           10.96,
           10.59,
           10.58,
           10.5,
           10.39,
           10.040000000000001,
           9.24,
           8.84,
           8.59,
           8.57,
           8.520000000000001,
           8.37,
           8.25,
           8.129999999999999,
           7.85,
           7.69,
           7.69,
           7.0600000000000005,
           6.7700000000000005,
           6.67,
           6.37,
           6.25,
           6.109999999999999,
           6.03,
           5.99,
           5.84,
           5.64,
           5.630000000000001,
           5.57,
           5.470000000000001,
           5.28,
           5.25,
           5.16,
           4.89,
           4.74,
           4.659999999999999,
           4.63,
           4.6000000000000005,
           4.37,
           4.33,
           4.25,
           4.22,
           3.82,
           3.75,
           3.65,
           3.61,
           3.6,
           3.5999999999999996,
           3.3800000000000003,
           3.2800000000000002,
           3.2600000000000002,
           3.25,
           3.14,
           3.04,
           3.0300000000000002,
           2.85,
           2.6,
           2.17,
           2.0700000000000003,
           1.9800000000000002,
           1.94,
           1.54,
           1.52,
           1.5,
           1.43,
           1.19,
           1.14,
           1.07,
           1.03,
           0.99,
           0.99,
           0.8,
           0.74,
           0.68,
           0.67,
           0.6699999999999999,
           0.6300000000000001,
           0.46,
           0.45,
           0.44999999999999996,
           0.36000000000000004,
           0.33,
           0.29,
           0.28,
           0.27,
           0.26,
           0.26,
           0.24,
           0.22000000000000003,
           0.21000000000000002,
           0.18000000000000002,
           0.18,
           0.16,
           0.12,
           0.11,
           0.1,
           0.09,
           0.08,
           0.08,
           0.07,
           0.04,
           0.04,
           0.04,
           0.03,
           0.03,
           0.02,
           0.02,
           0.02
          ],
          "coloraxis": "coloraxis",
          "symbol": "circle"
         },
         "mode": "markers",
         "name": "",
         "orientation": "v",
         "showlegend": false,
         "type": "scatter",
         "x": [
          "PS2",
          "Wii",
          "PS2",
          "PS2",
          "Wii",
          "X360",
          "PS",
          "Wii",
          "PS2",
          "PS2",
          "PS3",
          "DS",
          "DS",
          "PS",
          "X360",
          "PS3",
          "Wii",
          "PS",
          "X360",
          "PS3",
          "DS",
          "Wii",
          "X360",
          "DS",
          "DS",
          "PS4",
          "PS3",
          "PS3",
          "PS3",
          "PS2",
          "X360",
          "PS4",
          "X360",
          "PS",
          "PS",
          "X360",
          "DS",
          "PS2",
          "PS3",
          "GBA",
          "GBA",
          "PS4",
          "XB",
          "GB",
          "3DS",
          "GBA",
          "XOne",
          "Wii",
          "N64",
          "GBA",
          "3DS",
          "XB",
          "PSP",
          "XOne",
          "NES",
          "GC",
          "X360",
          "PS2",
          "3DS",
          "GC",
          "PSP",
          "NES",
          "N64",
          "XB",
          "XB",
          "PS3",
          "NES",
          "PSP",
          "3DS",
          "SNES",
          "N64",
          "PS2",
          "PSP",
          "GB",
          "NES",
          "GB",
          "PS",
          "2600",
          "PS",
          "SNES",
          "PSP",
          "PC",
          "X360",
          "PSP",
          "N64",
          "N64",
          "GBA",
          "SNES",
          "SNES",
          "PS2",
          "2600",
          "GC",
          "3DS",
          "GC",
          "GB",
          "GC",
          "DS",
          "XOne",
          "SNES",
          "PS4",
          "GB",
          "PC",
          "PC",
          "XB",
          "WiiU",
          "Wii",
          "WiiU",
          "PS3",
          "GB",
          "NES",
          "XOne",
          "PSP",
          "WiiU",
          "DS",
          "PC",
          "PS3",
          "WiiU",
          "SNES",
          "PSV",
          "SNES",
          "NES",
          "3DS",
          "PC",
          "PC",
          "PC",
          "GEN",
          "PC",
          "PC",
          "GB",
          "X360",
          "PSV",
          "SAT",
          "2600",
          "PC",
          "GC",
          "DS",
          "NES",
          "PSV",
          "PC",
          "2600",
          "PC",
          "XB",
          "GB",
          "PC",
          "Wii",
          "PC",
          "PC",
          "GBA",
          "X360",
          "GEN",
          "NES",
          "SAT",
          "PSP",
          "PSP",
          "SAT",
          "PS",
          "GB",
          "PSV",
          "NES",
          "PS",
          "DC",
          "2600",
          "PS2",
          "XB",
          "GB",
          "PC",
          "GBA",
          "PC",
          "DC",
          "GB",
          "PC",
          "PC",
          "PSV",
          "WiiU",
          "PC",
          "GEN",
          "PSV",
          "PC",
          "SAT",
          "Wii",
          "SAT",
          "NES",
          "PS3",
          "GB",
          "DC",
          "PS",
          "PC",
          "N64",
          "PSP",
          "GEN",
          "PC",
          "PC",
          "GEN",
          "GC",
          "PS",
          "NES",
          "2600",
          "DS",
          "X360",
          "SCD",
          "GB",
          "3DS",
          "Wii",
          "DC",
          "GB",
          "XB",
          "SNES",
          "NG",
          "2600",
          "WS",
          "2600",
          "N64",
          "2600",
          "WS",
          "PS2",
          "2600",
          "SCD",
          "NG",
          "DC",
          "WS",
          "2600",
          "SNES",
          "PSV",
          "PSP",
          "SNES",
          "NG",
          "XB",
          "Wii",
          "TG16",
          "PSP",
          "NES",
          "NG",
          "SAT",
          "N64",
          "3DO",
          "GBA",
          "DC",
          "GG",
          "PC",
          "PC",
          "PCFX",
          "3DO",
          "DC",
          "DS"
         ],
         "xaxis": "x",
         "y": [
          2004,
          2009,
          2002,
          2003,
          2008,
          2010,
          1998,
          2007,
          2001,
          2005,
          2011,
          2007,
          2008,
          1999,
          2011,
          2010,
          2006,
          1997,
          2008,
          2009,
          2005,
          2010,
          2009,
          2006,
          2009,
          2015,
          2008,
          2013,
          2012,
          2006,
          2007,
          2014,
          2012,
          2000,
          1996,
          2013,
          2010,
          2007,
          2007,
          2004,
          2002,
          2016,
          2004,
          1989,
          2011,
          2001,
          2015,
          2011,
          1999,
          2003,
          2013,
          2003,
          2006,
          2014,
          1985,
          2002,
          2006,
          2008,
          2012,
          2003,
          2007,
          1984,
          1998,
          2005,
          2002,
          2014,
          1988,
          2005,
          2014,
          1993,
          1997,
          2000,
          2009,
          1999,
          1986,
          1996,
          1995,
          1981,
          2001,
          1994,
          2010,
          2011,
          2014,
          2008,
          1996,
          2000,
          2005,
          1992,
          1995,
          2009,
          1982,
          2004,
          2015,
          2005,
          1998,
          2001,
          2011,
          2016,
          1990,
          2013,
          1992,
          2010,
          2012,
          2001,
          2014,
          2012,
          2013,
          2006,
          2000,
          1987,
          2013,
          2011,
          2012,
          2004,
          2009,
          2015,
          2015,
          1991,
          2012,
          1996,
          1990,
          2016,
          2014,
          2007,
          1994,
          1992,
          2008,
          2013,
          1994,
          2015,
          2014,
          1995,
          1980,
          1997,
          2006,
          2012,
          1983,
          2013,
          1996,
          2007,
          2004,
          2006,
          2001,
          2003,
          2013,
          2002,
          2015,
          2007,
          2005,
          1994,
          1989,
          1996,
          2012,
          2004,
          1997,
          2002,
          1997,
          2015,
          1991,
          1994,
          2000,
          1983,
          2010,
          2007,
          1991,
          2001,
          2006,
          2016,
          1999,
          1990,
          1999,
          2000,
          2011,
          2016,
          2005,
          1991,
          2016,
          1995,
          1998,
          2014,
          1994,
          1993,
          2016,
          1995,
          1998,
          2007,
          1998,
          2001,
          2013,
          1993,
          1992,
          2006,
          1990,
          2007,
          2003,
          1992,
          1987,
          2013,
          2016,
          1993,
          1988,
          2007,
          2015,
          2001,
          2007,
          2000,
          1997,
          1994,
          1988,
          2000,
          1986,
          2007,
          1989,
          1999,
          2011,
          1985,
          1994,
          1995,
          2002,
          2001,
          1984,
          1999,
          2007,
          2014,
          1998,
          1993,
          2008,
          2016,
          1995,
          2015,
          1994,
          1996,
          1999,
          2002,
          1995,
          2000,
          2008,
          1992,
          1985,
          1988,
          1996,
          1994,
          2007,
          1985
         ],
         "yaxis": "y"
        }
       ],
       "layout": {
        "coloraxis": {
         "colorbar": {
          "title": {
           "text": "Total Sales (in USD millions)"
          }
         },
         "colorscale": [
          [
           0,
           "#0d0887"
          ],
          [
           0.1111111111111111,
           "#46039f"
          ],
          [
           0.2222222222222222,
           "#7201a8"
          ],
          [
           0.3333333333333333,
           "#9c179e"
          ],
          [
           0.4444444444444444,
           "#bd3786"
          ],
          [
           0.5555555555555556,
           "#d8576b"
          ],
          [
           0.6666666666666666,
           "#ed7953"
          ],
          [
           0.7777777777777778,
           "#fb9f3a"
          ],
          [
           0.8888888888888888,
           "#fdca26"
          ],
          [
           1,
           "#f0f921"
          ]
         ]
        },
        "legend": {
         "tracegroupgap": 0
        },
        "template": {
         "data": {
          "bar": [
           {
            "error_x": {
             "color": "#2a3f5f"
            },
            "error_y": {
             "color": "#2a3f5f"
            },
            "marker": {
             "line": {
              "color": "#E5ECF6",
              "width": 0.5
             },
             "pattern": {
              "fillmode": "overlay",
              "size": 10,
              "solidity": 0.2
             }
            },
            "type": "bar"
           }
          ],
          "barpolar": [
           {
            "marker": {
             "line": {
              "color": "#E5ECF6",
              "width": 0.5
             },
             "pattern": {
              "fillmode": "overlay",
              "size": 10,
              "solidity": 0.2
             }
            },
            "type": "barpolar"
           }
          ],
          "carpet": [
           {
            "aaxis": {
             "endlinecolor": "#2a3f5f",
             "gridcolor": "white",
             "linecolor": "white",
             "minorgridcolor": "white",
             "startlinecolor": "#2a3f5f"
            },
            "baxis": {
             "endlinecolor": "#2a3f5f",
             "gridcolor": "white",
             "linecolor": "white",
             "minorgridcolor": "white",
             "startlinecolor": "#2a3f5f"
            },
            "type": "carpet"
           }
          ],
          "choropleth": [
           {
            "colorbar": {
             "outlinewidth": 0,
             "ticks": ""
            },
            "type": "choropleth"
           }
          ],
          "contour": [
           {
            "colorbar": {
             "outlinewidth": 0,
             "ticks": ""
            },
            "colorscale": [
             [
              0,
              "#0d0887"
             ],
             [
              0.1111111111111111,
              "#46039f"
             ],
             [
              0.2222222222222222,
              "#7201a8"
             ],
             [
              0.3333333333333333,
              "#9c179e"
             ],
             [
              0.4444444444444444,
              "#bd3786"
             ],
             [
              0.5555555555555556,
              "#d8576b"
             ],
             [
              0.6666666666666666,
              "#ed7953"
             ],
             [
              0.7777777777777778,
              "#fb9f3a"
             ],
             [
              0.8888888888888888,
              "#fdca26"
             ],
             [
              1,
              "#f0f921"
             ]
            ],
            "type": "contour"
           }
          ],
          "contourcarpet": [
           {
            "colorbar": {
             "outlinewidth": 0,
             "ticks": ""
            },
            "type": "contourcarpet"
           }
          ],
          "heatmap": [
           {
            "colorbar": {
             "outlinewidth": 0,
             "ticks": ""
            },
            "colorscale": [
             [
              0,
              "#0d0887"
             ],
             [
              0.1111111111111111,
              "#46039f"
             ],
             [
              0.2222222222222222,
              "#7201a8"
             ],
             [
              0.3333333333333333,
              "#9c179e"
             ],
             [
              0.4444444444444444,
              "#bd3786"
             ],
             [
              0.5555555555555556,
              "#d8576b"
             ],
             [
              0.6666666666666666,
              "#ed7953"
             ],
             [
              0.7777777777777778,
              "#fb9f3a"
             ],
             [
              0.8888888888888888,
              "#fdca26"
             ],
             [
              1,
              "#f0f921"
             ]
            ],
            "type": "heatmap"
           }
          ],
          "heatmapgl": [
           {
            "colorbar": {
             "outlinewidth": 0,
             "ticks": ""
            },
            "colorscale": [
             [
              0,
              "#0d0887"
             ],
             [
              0.1111111111111111,
              "#46039f"
             ],
             [
              0.2222222222222222,
              "#7201a8"
             ],
             [
              0.3333333333333333,
              "#9c179e"
             ],
             [
              0.4444444444444444,
              "#bd3786"
             ],
             [
              0.5555555555555556,
              "#d8576b"
             ],
             [
              0.6666666666666666,
              "#ed7953"
             ],
             [
              0.7777777777777778,
              "#fb9f3a"
             ],
             [
              0.8888888888888888,
              "#fdca26"
             ],
             [
              1,
              "#f0f921"
             ]
            ],
            "type": "heatmapgl"
           }
          ],
          "histogram": [
           {
            "marker": {
             "pattern": {
              "fillmode": "overlay",
              "size": 10,
              "solidity": 0.2
             }
            },
            "type": "histogram"
           }
          ],
          "histogram2d": [
           {
            "colorbar": {
             "outlinewidth": 0,
             "ticks": ""
            },
            "colorscale": [
             [
              0,
              "#0d0887"
             ],
             [
              0.1111111111111111,
              "#46039f"
             ],
             [
              0.2222222222222222,
              "#7201a8"
             ],
             [
              0.3333333333333333,
              "#9c179e"
             ],
             [
              0.4444444444444444,
              "#bd3786"
             ],
             [
              0.5555555555555556,
              "#d8576b"
             ],
             [
              0.6666666666666666,
              "#ed7953"
             ],
             [
              0.7777777777777778,
              "#fb9f3a"
             ],
             [
              0.8888888888888888,
              "#fdca26"
             ],
             [
              1,
              "#f0f921"
             ]
            ],
            "type": "histogram2d"
           }
          ],
          "histogram2dcontour": [
           {
            "colorbar": {
             "outlinewidth": 0,
             "ticks": ""
            },
            "colorscale": [
             [
              0,
              "#0d0887"
             ],
             [
              0.1111111111111111,
              "#46039f"
             ],
             [
              0.2222222222222222,
              "#7201a8"
             ],
             [
              0.3333333333333333,
              "#9c179e"
             ],
             [
              0.4444444444444444,
              "#bd3786"
             ],
             [
              0.5555555555555556,
              "#d8576b"
             ],
             [
              0.6666666666666666,
              "#ed7953"
             ],
             [
              0.7777777777777778,
              "#fb9f3a"
             ],
             [
              0.8888888888888888,
              "#fdca26"
             ],
             [
              1,
              "#f0f921"
             ]
            ],
            "type": "histogram2dcontour"
           }
          ],
          "mesh3d": [
           {
            "colorbar": {
             "outlinewidth": 0,
             "ticks": ""
            },
            "type": "mesh3d"
           }
          ],
          "parcoords": [
           {
            "line": {
             "colorbar": {
              "outlinewidth": 0,
              "ticks": ""
             }
            },
            "type": "parcoords"
           }
          ],
          "pie": [
           {
            "automargin": true,
            "type": "pie"
           }
          ],
          "scatter": [
           {
            "fillpattern": {
             "fillmode": "overlay",
             "size": 10,
             "solidity": 0.2
            },
            "type": "scatter"
           }
          ],
          "scatter3d": [
           {
            "line": {
             "colorbar": {
              "outlinewidth": 0,
              "ticks": ""
             }
            },
            "marker": {
             "colorbar": {
              "outlinewidth": 0,
              "ticks": ""
             }
            },
            "type": "scatter3d"
           }
          ],
          "scattercarpet": [
           {
            "marker": {
             "colorbar": {
              "outlinewidth": 0,
              "ticks": ""
             }
            },
            "type": "scattercarpet"
           }
          ],
          "scattergeo": [
           {
            "marker": {
             "colorbar": {
              "outlinewidth": 0,
              "ticks": ""
             }
            },
            "type": "scattergeo"
           }
          ],
          "scattergl": [
           {
            "marker": {
             "colorbar": {
              "outlinewidth": 0,
              "ticks": ""
             }
            },
            "type": "scattergl"
           }
          ],
          "scattermapbox": [
           {
            "marker": {
             "colorbar": {
              "outlinewidth": 0,
              "ticks": ""
             }
            },
            "type": "scattermapbox"
           }
          ],
          "scatterpolar": [
           {
            "marker": {
             "colorbar": {
              "outlinewidth": 0,
              "ticks": ""
             }
            },
            "type": "scatterpolar"
           }
          ],
          "scatterpolargl": [
           {
            "marker": {
             "colorbar": {
              "outlinewidth": 0,
              "ticks": ""
             }
            },
            "type": "scatterpolargl"
           }
          ],
          "scatterternary": [
           {
            "marker": {
             "colorbar": {
              "outlinewidth": 0,
              "ticks": ""
             }
            },
            "type": "scatterternary"
           }
          ],
          "surface": [
           {
            "colorbar": {
             "outlinewidth": 0,
             "ticks": ""
            },
            "colorscale": [
             [
              0,
              "#0d0887"
             ],
             [
              0.1111111111111111,
              "#46039f"
             ],
             [
              0.2222222222222222,
              "#7201a8"
             ],
             [
              0.3333333333333333,
              "#9c179e"
             ],
             [
              0.4444444444444444,
              "#bd3786"
             ],
             [
              0.5555555555555556,
              "#d8576b"
             ],
             [
              0.6666666666666666,
              "#ed7953"
             ],
             [
              0.7777777777777778,
              "#fb9f3a"
             ],
             [
              0.8888888888888888,
              "#fdca26"
             ],
             [
              1,
              "#f0f921"
             ]
            ],
            "type": "surface"
           }
          ],
          "table": [
           {
            "cells": {
             "fill": {
              "color": "#EBF0F8"
             },
             "line": {
              "color": "white"
             }
            },
            "header": {
             "fill": {
              "color": "#C8D4E3"
             },
             "line": {
              "color": "white"
             }
            },
            "type": "table"
           }
          ]
         },
         "layout": {
          "annotationdefaults": {
           "arrowcolor": "#2a3f5f",
           "arrowhead": 0,
           "arrowwidth": 1
          },
          "autotypenumbers": "strict",
          "coloraxis": {
           "colorbar": {
            "outlinewidth": 0,
            "ticks": ""
           }
          },
          "colorscale": {
           "diverging": [
            [
             0,
             "#8e0152"
            ],
            [
             0.1,
             "#c51b7d"
            ],
            [
             0.2,
             "#de77ae"
            ],
            [
             0.3,
             "#f1b6da"
            ],
            [
             0.4,
             "#fde0ef"
            ],
            [
             0.5,
             "#f7f7f7"
            ],
            [
             0.6,
             "#e6f5d0"
            ],
            [
             0.7,
             "#b8e186"
            ],
            [
             0.8,
             "#7fbc41"
            ],
            [
             0.9,
             "#4d9221"
            ],
            [
             1,
             "#276419"
            ]
           ],
           "sequential": [
            [
             0,
             "#0d0887"
            ],
            [
             0.1111111111111111,
             "#46039f"
            ],
            [
             0.2222222222222222,
             "#7201a8"
            ],
            [
             0.3333333333333333,
             "#9c179e"
            ],
            [
             0.4444444444444444,
             "#bd3786"
            ],
            [
             0.5555555555555556,
             "#d8576b"
            ],
            [
             0.6666666666666666,
             "#ed7953"
            ],
            [
             0.7777777777777778,
             "#fb9f3a"
            ],
            [
             0.8888888888888888,
             "#fdca26"
            ],
            [
             1,
             "#f0f921"
            ]
           ],
           "sequentialminus": [
            [
             0,
             "#0d0887"
            ],
            [
             0.1111111111111111,
             "#46039f"
            ],
            [
             0.2222222222222222,
             "#7201a8"
            ],
            [
             0.3333333333333333,
             "#9c179e"
            ],
            [
             0.4444444444444444,
             "#bd3786"
            ],
            [
             0.5555555555555556,
             "#d8576b"
            ],
            [
             0.6666666666666666,
             "#ed7953"
            ],
            [
             0.7777777777777778,
             "#fb9f3a"
            ],
            [
             0.8888888888888888,
             "#fdca26"
            ],
            [
             1,
             "#f0f921"
            ]
           ]
          },
          "colorway": [
           "#636efa",
           "#EF553B",
           "#00cc96",
           "#ab63fa",
           "#FFA15A",
           "#19d3f3",
           "#FF6692",
           "#B6E880",
           "#FF97FF",
           "#FECB52"
          ],
          "font": {
           "color": "#2a3f5f"
          },
          "geo": {
           "bgcolor": "white",
           "lakecolor": "white",
           "landcolor": "#E5ECF6",
           "showlakes": true,
           "showland": true,
           "subunitcolor": "white"
          },
          "hoverlabel": {
           "align": "left"
          },
          "hovermode": "closest",
          "mapbox": {
           "style": "light"
          },
          "paper_bgcolor": "white",
          "plot_bgcolor": "#E5ECF6",
          "polar": {
           "angularaxis": {
            "gridcolor": "white",
            "linecolor": "white",
            "ticks": ""
           },
           "bgcolor": "#E5ECF6",
           "radialaxis": {
            "gridcolor": "white",
            "linecolor": "white",
            "ticks": ""
           }
          },
          "scene": {
           "xaxis": {
            "backgroundcolor": "#E5ECF6",
            "gridcolor": "white",
            "gridwidth": 2,
            "linecolor": "white",
            "showbackground": true,
            "ticks": "",
            "zerolinecolor": "white"
           },
           "yaxis": {
            "backgroundcolor": "#E5ECF6",
            "gridcolor": "white",
            "gridwidth": 2,
            "linecolor": "white",
            "showbackground": true,
            "ticks": "",
            "zerolinecolor": "white"
           },
           "zaxis": {
            "backgroundcolor": "#E5ECF6",
            "gridcolor": "white",
            "gridwidth": 2,
            "linecolor": "white",
            "showbackground": true,
            "ticks": "",
            "zerolinecolor": "white"
           }
          },
          "shapedefaults": {
           "line": {
            "color": "#2a3f5f"
           }
          },
          "ternary": {
           "aaxis": {
            "gridcolor": "white",
            "linecolor": "white",
            "ticks": ""
           },
           "baxis": {
            "gridcolor": "white",
            "linecolor": "white",
            "ticks": ""
           },
           "bgcolor": "#E5ECF6",
           "caxis": {
            "gridcolor": "white",
            "linecolor": "white",
            "ticks": ""
           }
          },
          "title": {
           "x": 0.05
          },
          "xaxis": {
           "automargin": true,
           "gridcolor": "white",
           "linecolor": "white",
           "ticks": "",
           "title": {
            "standoff": 15
           },
           "zerolinecolor": "white",
           "zerolinewidth": 2
          },
          "yaxis": {
           "automargin": true,
           "gridcolor": "white",
           "linecolor": "white",
           "ticks": "",
           "title": {
            "standoff": 15
           },
           "zerolinecolor": "white",
           "zerolinewidth": 2
          }
         }
        },
        "title": {
         "text": "Platforms' Appearance and Disappearance in terms of Annual Total Sales (USD Millions)"
        },
        "xaxis": {
         "anchor": "y",
         "domain": [
          0,
          1
         ],
         "title": {
          "text": "Platform"
         }
        },
        "yaxis": {
         "anchor": "x",
         "domain": [
          0,
          1
         ],
         "title": {
          "text": "Year of Release"
         }
        }
       }
      }
     },
     "metadata": {},
     "output_type": "display_data"
    }
   ],
   "source": [
    "#create bar chart of all total sales\n",
    "grp = ice_data.groupby(['platform', 'year_of_release'])\n",
    "sales_per_platform = grp['total_sales'].sum()\n",
    "sales_per_platform = sales_per_platform.reset_index().rename(columns={0: 'platform', 1: 'year_of_release', 'total_sales': 'total_sales'})\n",
    "sales_platform_bar = px.bar(sales_per_platform,\n",
    "                            x='platform',\n",
    "                            y='total_sales',\n",
    "                            color='year_of_release',\n",
    "                            labels={\n",
    "                                    'platform': 'Platform',\n",
    "                                    'total_sales': 'Total Sales (in USD millions)',\n",
    "                                    'year_of_release': 'Year of Release'},                              \n",
    "                            title='Total Sales (in USD millions) per Platform per Year')\n",
    "\n",
    "#grab top platforms and create bar chat of their total sales only\n",
    "sorted_by_total_sales = sales_per_platform.sort_values(by='total_sales', ascending=False)\n",
    "top_platforms = sorted_by_total_sales['platform'].head(20).reset_index().rename(columns={0: 'platform'})\n",
    "unique_platforms = top_platforms['platform'].unique()\n",
    "unique_platforms_list = list(unique_platforms)\n",
    "top_sales_platform = sales_per_platform[sales_per_platform['platform'].isin(unique_platforms_list)]\n",
    "top_sales_platform_bar = px.bar(top_sales_platform,\n",
    "                                x='platform',\n",
    "                                y='total_sales',\n",
    "                                color='year_of_release',\n",
    "                                labels={\n",
    "                                        'platform': 'Platforms with Greatest Total Sales',\n",
    "                                        'total_sales': 'Total Sales (in USD millions)',\n",
    "                                        'year_of_release': 'Year of Release'},                              \n",
    "                                title='Total Annual Sales (in USD millions) for Platforms with Greatest Sales')\n",
    "\n",
    "#platforms that were popular\n",
    "grp2 = ice_data.groupby(['year_of_release', 'platform'])\n",
    "formerly_popular = grp2['total_sales'].sum()\n",
    "formerly_popular = formerly_popular.reset_index().rename(columns={0: 'year_of_release', 1: 'platform', 'total_sales': 'total_sales'})\n",
    "formerly_popular_sorted = formerly_popular.sort_values(by='total_sales', ascending=False)\n",
    "formerly_popular_sorted_scatter = px.scatter(formerly_popular_sorted,\n",
    "                                     x='platform',\n",
    "                                     y='year_of_release',\n",
    "                                     color='total_sales',\n",
    "                                     labels={\n",
    "                                             'platform': 'Platform',\n",
    "                                             'total_sales': 'Total Sales (in USD millions)',\n",
    "                                             'year_of_release': 'Year of Release'},                              \n",
    "                                     title=\"Platforms' Appearance and Disappearance in terms of Annual Total Sales (USD Millions)\")\n",
    "\n",
    "#display results\n",
    "sales_platform_bar.show()\n",
    "top_sales_platform_bar.show()\n",
    "formerly_popular_sorted_scatter.show()\n",
    "#print(top_sales_platform)\n",
    "#print(formerly_popular_sorted)"
   ]
  },
  {
   "attachments": {},
   "cell_type": "markdown",
   "metadata": {},
   "source": [
    "Determine what period you should take data for. To do so, look at your answers to the previous questions. The data should allow you to build a prognosis for 2017."
   ]
  },
  {
   "attachments": {},
   "cell_type": "markdown",
   "metadata": {},
   "source": [
    "Based on the platforms with greatest sales and the platforms' appearance and disappearance throughout the years, I think it would be best to look at the period 2005-2016.  "
   ]
  },
  {
   "attachments": {},
   "cell_type": "markdown",
   "metadata": {},
   "source": [
    "Work only with the data that you've decided is relevant. Disregard the data for previous years."
   ]
  },
  {
   "cell_type": "code",
   "execution_count": 1416,
   "metadata": {},
   "outputs": [
    {
     "data": {
      "text/html": [
       "<div>\n",
       "<style scoped>\n",
       "    .dataframe tbody tr th:only-of-type {\n",
       "        vertical-align: middle;\n",
       "    }\n",
       "\n",
       "    .dataframe tbody tr th {\n",
       "        vertical-align: top;\n",
       "    }\n",
       "\n",
       "    .dataframe thead th {\n",
       "        text-align: right;\n",
       "    }\n",
       "</style>\n",
       "<table border=\"1\" class=\"dataframe\">\n",
       "  <thead>\n",
       "    <tr style=\"text-align: right;\">\n",
       "      <th></th>\n",
       "      <th>index</th>\n",
       "      <th>name</th>\n",
       "      <th>platform</th>\n",
       "      <th>year_of_release</th>\n",
       "      <th>genre</th>\n",
       "      <th>na_sales</th>\n",
       "      <th>eu_sales</th>\n",
       "      <th>jp_sales</th>\n",
       "      <th>other_sales</th>\n",
       "      <th>critic_score</th>\n",
       "      <th>user_score</th>\n",
       "      <th>rating</th>\n",
       "      <th>total_sales</th>\n",
       "    </tr>\n",
       "  </thead>\n",
       "  <tbody>\n",
       "    <tr>\n",
       "      <th>0</th>\n",
       "      <td>0</td>\n",
       "      <td>Wii Sports</td>\n",
       "      <td>Wii</td>\n",
       "      <td>2006</td>\n",
       "      <td>Sports</td>\n",
       "      <td>41.36</td>\n",
       "      <td>28.96</td>\n",
       "      <td>3.77</td>\n",
       "      <td>8.45</td>\n",
       "      <td>76.0</td>\n",
       "      <td>8.0</td>\n",
       "      <td>E</td>\n",
       "      <td>82.54</td>\n",
       "    </tr>\n",
       "    <tr>\n",
       "      <th>1</th>\n",
       "      <td>2</td>\n",
       "      <td>Mario Kart Wii</td>\n",
       "      <td>Wii</td>\n",
       "      <td>2008</td>\n",
       "      <td>Racing</td>\n",
       "      <td>15.68</td>\n",
       "      <td>12.76</td>\n",
       "      <td>3.79</td>\n",
       "      <td>3.29</td>\n",
       "      <td>82.0</td>\n",
       "      <td>8.3</td>\n",
       "      <td>E</td>\n",
       "      <td>35.52</td>\n",
       "    </tr>\n",
       "    <tr>\n",
       "      <th>2</th>\n",
       "      <td>3</td>\n",
       "      <td>Wii Sports Resort</td>\n",
       "      <td>Wii</td>\n",
       "      <td>2009</td>\n",
       "      <td>Sports</td>\n",
       "      <td>15.61</td>\n",
       "      <td>10.93</td>\n",
       "      <td>3.28</td>\n",
       "      <td>2.95</td>\n",
       "      <td>80.0</td>\n",
       "      <td>8.0</td>\n",
       "      <td>E</td>\n",
       "      <td>32.77</td>\n",
       "    </tr>\n",
       "    <tr>\n",
       "      <th>3</th>\n",
       "      <td>6</td>\n",
       "      <td>New Super Mario Bros.</td>\n",
       "      <td>DS</td>\n",
       "      <td>2006</td>\n",
       "      <td>Platform</td>\n",
       "      <td>11.28</td>\n",
       "      <td>9.14</td>\n",
       "      <td>6.50</td>\n",
       "      <td>2.88</td>\n",
       "      <td>89.0</td>\n",
       "      <td>8.5</td>\n",
       "      <td>E</td>\n",
       "      <td>29.80</td>\n",
       "    </tr>\n",
       "    <tr>\n",
       "      <th>4</th>\n",
       "      <td>7</td>\n",
       "      <td>Wii Play</td>\n",
       "      <td>Wii</td>\n",
       "      <td>2006</td>\n",
       "      <td>Misc</td>\n",
       "      <td>13.96</td>\n",
       "      <td>9.18</td>\n",
       "      <td>2.93</td>\n",
       "      <td>2.84</td>\n",
       "      <td>58.0</td>\n",
       "      <td>6.6</td>\n",
       "      <td>E</td>\n",
       "      <td>28.91</td>\n",
       "    </tr>\n",
       "  </tbody>\n",
       "</table>\n",
       "</div>"
      ],
      "text/plain": [
       "   index                   name platform  year_of_release     genre  na_sales  \\\n",
       "0      0             Wii Sports      Wii             2006    Sports     41.36   \n",
       "1      2         Mario Kart Wii      Wii             2008    Racing     15.68   \n",
       "2      3      Wii Sports Resort      Wii             2009    Sports     15.61   \n",
       "3      6  New Super Mario Bros.       DS             2006  Platform     11.28   \n",
       "4      7               Wii Play      Wii             2006      Misc     13.96   \n",
       "\n",
       "   eu_sales  jp_sales  other_sales  critic_score  user_score rating  \\\n",
       "0     28.96      3.77         8.45          76.0         8.0      E   \n",
       "1     12.76      3.79         3.29          82.0         8.3      E   \n",
       "2     10.93      3.28         2.95          80.0         8.0      E   \n",
       "3      9.14      6.50         2.88          89.0         8.5      E   \n",
       "4      9.18      2.93         2.84          58.0         6.6      E   \n",
       "\n",
       "   total_sales  \n",
       "0        82.54  \n",
       "1        35.52  \n",
       "2        32.77  \n",
       "3        29.80  \n",
       "4        28.91  "
      ]
     },
     "metadata": {},
     "output_type": "display_data"
    }
   ],
   "source": [
    "ice_data_filtered = ice_data.query(\"year_of_release > 2004 and year_of_release < 2017\").reset_index()\n",
    "display(ice_data_filtered.head())"
   ]
  },
  {
   "attachments": {},
   "cell_type": "markdown",
   "metadata": {},
   "source": [
    "Which platforms are leading in sales? Which ones are growing or shrinking? Select several potentially profitable platforms."
   ]
  },
  {
   "cell_type": "code",
   "execution_count": 1425,
   "metadata": {},
   "outputs": [
    {
     "name": "stdout",
     "output_type": "stream",
     "text": [
      "   platform  total_sales\n",
      "0      X360       971.42\n",
      "1       PS3       939.64\n",
      "2       Wii       907.51\n",
      "3        DS       788.83\n",
      "4       PS2       438.31\n",
      "5       PS4       314.14\n",
      "6       PSP       286.99\n",
      "7       3DS       259.00\n",
      "8        PC       171.55\n",
      "9      XOne       159.32\n",
      "10     WiiU        82.19\n",
      "11       XB        65.08\n",
      "12      PSV        54.07\n",
      "13      GBA        47.51\n",
      "14       GC        41.05\n",
      "15     2600        10.50\n",
      "16       PS         3.28\n",
      "17       GB         1.03\n",
      "18      N64         0.67\n",
      "19       DC         0.06\n"
     ]
    },
    {
     "data": {
      "application/vnd.plotly.v1+json": {
       "config": {
        "plotlyServerURL": "https://plot.ly"
       },
       "data": [
        {
         "hovertemplate": "Platform=%{x}<br>Year of Release=%{y}<br>Total Sales (in USD millions)=%{marker.color}<extra></extra>",
         "legendgroup": "",
         "marker": {
          "color": [
           130.14,
           33.86,
           27.62,
           4.37,
           160.98,
           43.84,
           8.25,
           49.230000000000004,
           119.81,
           5.28,
           11.26,
           2.85,
           106.46,
           20.96,
           55.32,
           137.15,
           51.620000000000005,
           10.040000000000001,
           10.5,
           1.19,
           0.02,
           150.27,
           1.03,
           8.37,
           2.17,
           0.6699999999999999,
           13.040000000000001,
           3.2800000000000002,
           84.48,
           81.5,
           50.64,
           0.26,
           169.1,
           105.59,
           5.630000000000001,
           0.04,
           145.32,
           12.42,
           51.39,
           116.42,
           34.56,
           171.32,
           134.25,
           0.18000000000000002,
           119.54,
           16.91,
           28.91,
           133.03,
           38.58,
           206.97,
           121.3,
           85.02,
           24.28,
           5.64,
           142.17,
           35.04,
           127.95,
           170.03,
           63.199999999999996,
           26.18,
           35.03,
           0.45,
           156.78,
           17.82,
           4.63,
           59.65,
           143.84,
           51.36000000000001,
           11.01,
           23.22,
           107.35000000000001,
           7.69,
           16.19,
           21.71,
           17.560000000000002,
           99.74000000000001,
           56.57,
           1.54,
           12.38,
           113.25,
           25.99,
           3.14,
           10.59,
           8.59,
           21.650000000000002,
           88.58,
           18.96,
           43.76,
           13.280000000000001,
           47.760000000000005,
           100,
           0.24,
           11.9,
           3.75,
           22.03,
           34.74,
           54.07,
           27.78,
           8.520000000000001,
           16.82,
           118.9,
           0.12,
           6.25,
           1.14,
           16.35,
           11.959999999999999,
           60.14,
           15.14,
           5.25,
           3.6,
           69.25,
           4.25,
           0.18,
           4.6000000000000005,
           1.52,
           26.150000000000002
          ],
          "coloraxis": "coloraxis",
          "symbol": "circle"
         },
         "mode": "markers",
         "name": "",
         "orientation": "v",
         "showlegend": false,
         "type": "scatter",
         "x": [
          "DS",
          "GBA",
          "GC",
          "PC",
          "PS2",
          "PSP",
          "X360",
          "XB",
          "DS",
          "GBA",
          "GC",
          "PC",
          "PS2",
          "PS3",
          "PSP",
          "Wii",
          "X360",
          "XB",
          "2600",
          "3DS",
          "DC",
          "DS",
          "GB",
          "GBA",
          "GC",
          "N64",
          "PC",
          "PS",
          "PS2",
          "PS3",
          "PSP",
          "PSV",
          "Wii",
          "X360",
          "XB",
          "DC",
          "DS",
          "PC",
          "PS2",
          "PS3",
          "PSP",
          "Wii",
          "X360",
          "XB",
          "DS",
          "PC",
          "PS2",
          "PS3",
          "PSP",
          "Wii",
          "X360",
          "DS",
          "PC",
          "PS2",
          "PS3",
          "PSP",
          "Wii",
          "X360",
          "3DS",
          "DS",
          "PC",
          "PS2",
          "PS3",
          "PSP",
          "PSV",
          "Wii",
          "X360",
          "3DS",
          "DS",
          "PC",
          "PS3",
          "PSP",
          "PSV",
          "Wii",
          "WiiU",
          "X360",
          "3DS",
          "DS",
          "PC",
          "PS3",
          "PS4",
          "PSP",
          "PSV",
          "Wii",
          "WiiU",
          "X360",
          "XOne",
          "3DS",
          "PC",
          "PS3",
          "PS4",
          "PSP",
          "PSV",
          "Wii",
          "WiiU",
          "X360",
          "XOne",
          "3DS",
          "PC",
          "PS3",
          "PS4",
          "PSP",
          "PSV",
          "Wii",
          "WiiU",
          "X360",
          "XOne",
          "3DS",
          "PC",
          "PS3",
          "PS4",
          "PSV",
          "Wii",
          "WiiU",
          "X360",
          "XOne"
         ],
         "xaxis": "x",
         "y": [
          2005,
          2005,
          2005,
          2005,
          2005,
          2005,
          2005,
          2005,
          2006,
          2006,
          2006,
          2006,
          2006,
          2006,
          2006,
          2006,
          2006,
          2006,
          2007,
          2007,
          2007,
          2007,
          2007,
          2007,
          2007,
          2007,
          2007,
          2007,
          2007,
          2007,
          2007,
          2007,
          2007,
          2007,
          2007,
          2008,
          2008,
          2008,
          2008,
          2008,
          2008,
          2008,
          2008,
          2008,
          2009,
          2009,
          2009,
          2009,
          2009,
          2009,
          2009,
          2010,
          2010,
          2010,
          2010,
          2010,
          2010,
          2010,
          2011,
          2011,
          2011,
          2011,
          2011,
          2011,
          2011,
          2011,
          2011,
          2012,
          2012,
          2012,
          2012,
          2012,
          2012,
          2012,
          2012,
          2012,
          2013,
          2013,
          2013,
          2013,
          2013,
          2013,
          2013,
          2013,
          2013,
          2013,
          2013,
          2014,
          2014,
          2014,
          2014,
          2014,
          2014,
          2014,
          2014,
          2014,
          2014,
          2015,
          2015,
          2015,
          2015,
          2015,
          2015,
          2015,
          2015,
          2015,
          2015,
          2016,
          2016,
          2016,
          2016,
          2016,
          2016,
          2016,
          2016,
          2016
         ],
         "yaxis": "y"
        }
       ],
       "layout": {
        "coloraxis": {
         "colorbar": {
          "title": {
           "text": "Total Sales (in USD millions)"
          }
         },
         "colorscale": [
          [
           0,
           "#0d0887"
          ],
          [
           0.1111111111111111,
           "#46039f"
          ],
          [
           0.2222222222222222,
           "#7201a8"
          ],
          [
           0.3333333333333333,
           "#9c179e"
          ],
          [
           0.4444444444444444,
           "#bd3786"
          ],
          [
           0.5555555555555556,
           "#d8576b"
          ],
          [
           0.6666666666666666,
           "#ed7953"
          ],
          [
           0.7777777777777778,
           "#fb9f3a"
          ],
          [
           0.8888888888888888,
           "#fdca26"
          ],
          [
           1,
           "#f0f921"
          ]
         ]
        },
        "legend": {
         "tracegroupgap": 0
        },
        "template": {
         "data": {
          "bar": [
           {
            "error_x": {
             "color": "#2a3f5f"
            },
            "error_y": {
             "color": "#2a3f5f"
            },
            "marker": {
             "line": {
              "color": "#E5ECF6",
              "width": 0.5
             },
             "pattern": {
              "fillmode": "overlay",
              "size": 10,
              "solidity": 0.2
             }
            },
            "type": "bar"
           }
          ],
          "barpolar": [
           {
            "marker": {
             "line": {
              "color": "#E5ECF6",
              "width": 0.5
             },
             "pattern": {
              "fillmode": "overlay",
              "size": 10,
              "solidity": 0.2
             }
            },
            "type": "barpolar"
           }
          ],
          "carpet": [
           {
            "aaxis": {
             "endlinecolor": "#2a3f5f",
             "gridcolor": "white",
             "linecolor": "white",
             "minorgridcolor": "white",
             "startlinecolor": "#2a3f5f"
            },
            "baxis": {
             "endlinecolor": "#2a3f5f",
             "gridcolor": "white",
             "linecolor": "white",
             "minorgridcolor": "white",
             "startlinecolor": "#2a3f5f"
            },
            "type": "carpet"
           }
          ],
          "choropleth": [
           {
            "colorbar": {
             "outlinewidth": 0,
             "ticks": ""
            },
            "type": "choropleth"
           }
          ],
          "contour": [
           {
            "colorbar": {
             "outlinewidth": 0,
             "ticks": ""
            },
            "colorscale": [
             [
              0,
              "#0d0887"
             ],
             [
              0.1111111111111111,
              "#46039f"
             ],
             [
              0.2222222222222222,
              "#7201a8"
             ],
             [
              0.3333333333333333,
              "#9c179e"
             ],
             [
              0.4444444444444444,
              "#bd3786"
             ],
             [
              0.5555555555555556,
              "#d8576b"
             ],
             [
              0.6666666666666666,
              "#ed7953"
             ],
             [
              0.7777777777777778,
              "#fb9f3a"
             ],
             [
              0.8888888888888888,
              "#fdca26"
             ],
             [
              1,
              "#f0f921"
             ]
            ],
            "type": "contour"
           }
          ],
          "contourcarpet": [
           {
            "colorbar": {
             "outlinewidth": 0,
             "ticks": ""
            },
            "type": "contourcarpet"
           }
          ],
          "heatmap": [
           {
            "colorbar": {
             "outlinewidth": 0,
             "ticks": ""
            },
            "colorscale": [
             [
              0,
              "#0d0887"
             ],
             [
              0.1111111111111111,
              "#46039f"
             ],
             [
              0.2222222222222222,
              "#7201a8"
             ],
             [
              0.3333333333333333,
              "#9c179e"
             ],
             [
              0.4444444444444444,
              "#bd3786"
             ],
             [
              0.5555555555555556,
              "#d8576b"
             ],
             [
              0.6666666666666666,
              "#ed7953"
             ],
             [
              0.7777777777777778,
              "#fb9f3a"
             ],
             [
              0.8888888888888888,
              "#fdca26"
             ],
             [
              1,
              "#f0f921"
             ]
            ],
            "type": "heatmap"
           }
          ],
          "heatmapgl": [
           {
            "colorbar": {
             "outlinewidth": 0,
             "ticks": ""
            },
            "colorscale": [
             [
              0,
              "#0d0887"
             ],
             [
              0.1111111111111111,
              "#46039f"
             ],
             [
              0.2222222222222222,
              "#7201a8"
             ],
             [
              0.3333333333333333,
              "#9c179e"
             ],
             [
              0.4444444444444444,
              "#bd3786"
             ],
             [
              0.5555555555555556,
              "#d8576b"
             ],
             [
              0.6666666666666666,
              "#ed7953"
             ],
             [
              0.7777777777777778,
              "#fb9f3a"
             ],
             [
              0.8888888888888888,
              "#fdca26"
             ],
             [
              1,
              "#f0f921"
             ]
            ],
            "type": "heatmapgl"
           }
          ],
          "histogram": [
           {
            "marker": {
             "pattern": {
              "fillmode": "overlay",
              "size": 10,
              "solidity": 0.2
             }
            },
            "type": "histogram"
           }
          ],
          "histogram2d": [
           {
            "colorbar": {
             "outlinewidth": 0,
             "ticks": ""
            },
            "colorscale": [
             [
              0,
              "#0d0887"
             ],
             [
              0.1111111111111111,
              "#46039f"
             ],
             [
              0.2222222222222222,
              "#7201a8"
             ],
             [
              0.3333333333333333,
              "#9c179e"
             ],
             [
              0.4444444444444444,
              "#bd3786"
             ],
             [
              0.5555555555555556,
              "#d8576b"
             ],
             [
              0.6666666666666666,
              "#ed7953"
             ],
             [
              0.7777777777777778,
              "#fb9f3a"
             ],
             [
              0.8888888888888888,
              "#fdca26"
             ],
             [
              1,
              "#f0f921"
             ]
            ],
            "type": "histogram2d"
           }
          ],
          "histogram2dcontour": [
           {
            "colorbar": {
             "outlinewidth": 0,
             "ticks": ""
            },
            "colorscale": [
             [
              0,
              "#0d0887"
             ],
             [
              0.1111111111111111,
              "#46039f"
             ],
             [
              0.2222222222222222,
              "#7201a8"
             ],
             [
              0.3333333333333333,
              "#9c179e"
             ],
             [
              0.4444444444444444,
              "#bd3786"
             ],
             [
              0.5555555555555556,
              "#d8576b"
             ],
             [
              0.6666666666666666,
              "#ed7953"
             ],
             [
              0.7777777777777778,
              "#fb9f3a"
             ],
             [
              0.8888888888888888,
              "#fdca26"
             ],
             [
              1,
              "#f0f921"
             ]
            ],
            "type": "histogram2dcontour"
           }
          ],
          "mesh3d": [
           {
            "colorbar": {
             "outlinewidth": 0,
             "ticks": ""
            },
            "type": "mesh3d"
           }
          ],
          "parcoords": [
           {
            "line": {
             "colorbar": {
              "outlinewidth": 0,
              "ticks": ""
             }
            },
            "type": "parcoords"
           }
          ],
          "pie": [
           {
            "automargin": true,
            "type": "pie"
           }
          ],
          "scatter": [
           {
            "fillpattern": {
             "fillmode": "overlay",
             "size": 10,
             "solidity": 0.2
            },
            "type": "scatter"
           }
          ],
          "scatter3d": [
           {
            "line": {
             "colorbar": {
              "outlinewidth": 0,
              "ticks": ""
             }
            },
            "marker": {
             "colorbar": {
              "outlinewidth": 0,
              "ticks": ""
             }
            },
            "type": "scatter3d"
           }
          ],
          "scattercarpet": [
           {
            "marker": {
             "colorbar": {
              "outlinewidth": 0,
              "ticks": ""
             }
            },
            "type": "scattercarpet"
           }
          ],
          "scattergeo": [
           {
            "marker": {
             "colorbar": {
              "outlinewidth": 0,
              "ticks": ""
             }
            },
            "type": "scattergeo"
           }
          ],
          "scattergl": [
           {
            "marker": {
             "colorbar": {
              "outlinewidth": 0,
              "ticks": ""
             }
            },
            "type": "scattergl"
           }
          ],
          "scattermapbox": [
           {
            "marker": {
             "colorbar": {
              "outlinewidth": 0,
              "ticks": ""
             }
            },
            "type": "scattermapbox"
           }
          ],
          "scatterpolar": [
           {
            "marker": {
             "colorbar": {
              "outlinewidth": 0,
              "ticks": ""
             }
            },
            "type": "scatterpolar"
           }
          ],
          "scatterpolargl": [
           {
            "marker": {
             "colorbar": {
              "outlinewidth": 0,
              "ticks": ""
             }
            },
            "type": "scatterpolargl"
           }
          ],
          "scatterternary": [
           {
            "marker": {
             "colorbar": {
              "outlinewidth": 0,
              "ticks": ""
             }
            },
            "type": "scatterternary"
           }
          ],
          "surface": [
           {
            "colorbar": {
             "outlinewidth": 0,
             "ticks": ""
            },
            "colorscale": [
             [
              0,
              "#0d0887"
             ],
             [
              0.1111111111111111,
              "#46039f"
             ],
             [
              0.2222222222222222,
              "#7201a8"
             ],
             [
              0.3333333333333333,
              "#9c179e"
             ],
             [
              0.4444444444444444,
              "#bd3786"
             ],
             [
              0.5555555555555556,
              "#d8576b"
             ],
             [
              0.6666666666666666,
              "#ed7953"
             ],
             [
              0.7777777777777778,
              "#fb9f3a"
             ],
             [
              0.8888888888888888,
              "#fdca26"
             ],
             [
              1,
              "#f0f921"
             ]
            ],
            "type": "surface"
           }
          ],
          "table": [
           {
            "cells": {
             "fill": {
              "color": "#EBF0F8"
             },
             "line": {
              "color": "white"
             }
            },
            "header": {
             "fill": {
              "color": "#C8D4E3"
             },
             "line": {
              "color": "white"
             }
            },
            "type": "table"
           }
          ]
         },
         "layout": {
          "annotationdefaults": {
           "arrowcolor": "#2a3f5f",
           "arrowhead": 0,
           "arrowwidth": 1
          },
          "autotypenumbers": "strict",
          "coloraxis": {
           "colorbar": {
            "outlinewidth": 0,
            "ticks": ""
           }
          },
          "colorscale": {
           "diverging": [
            [
             0,
             "#8e0152"
            ],
            [
             0.1,
             "#c51b7d"
            ],
            [
             0.2,
             "#de77ae"
            ],
            [
             0.3,
             "#f1b6da"
            ],
            [
             0.4,
             "#fde0ef"
            ],
            [
             0.5,
             "#f7f7f7"
            ],
            [
             0.6,
             "#e6f5d0"
            ],
            [
             0.7,
             "#b8e186"
            ],
            [
             0.8,
             "#7fbc41"
            ],
            [
             0.9,
             "#4d9221"
            ],
            [
             1,
             "#276419"
            ]
           ],
           "sequential": [
            [
             0,
             "#0d0887"
            ],
            [
             0.1111111111111111,
             "#46039f"
            ],
            [
             0.2222222222222222,
             "#7201a8"
            ],
            [
             0.3333333333333333,
             "#9c179e"
            ],
            [
             0.4444444444444444,
             "#bd3786"
            ],
            [
             0.5555555555555556,
             "#d8576b"
            ],
            [
             0.6666666666666666,
             "#ed7953"
            ],
            [
             0.7777777777777778,
             "#fb9f3a"
            ],
            [
             0.8888888888888888,
             "#fdca26"
            ],
            [
             1,
             "#f0f921"
            ]
           ],
           "sequentialminus": [
            [
             0,
             "#0d0887"
            ],
            [
             0.1111111111111111,
             "#46039f"
            ],
            [
             0.2222222222222222,
             "#7201a8"
            ],
            [
             0.3333333333333333,
             "#9c179e"
            ],
            [
             0.4444444444444444,
             "#bd3786"
            ],
            [
             0.5555555555555556,
             "#d8576b"
            ],
            [
             0.6666666666666666,
             "#ed7953"
            ],
            [
             0.7777777777777778,
             "#fb9f3a"
            ],
            [
             0.8888888888888888,
             "#fdca26"
            ],
            [
             1,
             "#f0f921"
            ]
           ]
          },
          "colorway": [
           "#636efa",
           "#EF553B",
           "#00cc96",
           "#ab63fa",
           "#FFA15A",
           "#19d3f3",
           "#FF6692",
           "#B6E880",
           "#FF97FF",
           "#FECB52"
          ],
          "font": {
           "color": "#2a3f5f"
          },
          "geo": {
           "bgcolor": "white",
           "lakecolor": "white",
           "landcolor": "#E5ECF6",
           "showlakes": true,
           "showland": true,
           "subunitcolor": "white"
          },
          "hoverlabel": {
           "align": "left"
          },
          "hovermode": "closest",
          "mapbox": {
           "style": "light"
          },
          "paper_bgcolor": "white",
          "plot_bgcolor": "#E5ECF6",
          "polar": {
           "angularaxis": {
            "gridcolor": "white",
            "linecolor": "white",
            "ticks": ""
           },
           "bgcolor": "#E5ECF6",
           "radialaxis": {
            "gridcolor": "white",
            "linecolor": "white",
            "ticks": ""
           }
          },
          "scene": {
           "xaxis": {
            "backgroundcolor": "#E5ECF6",
            "gridcolor": "white",
            "gridwidth": 2,
            "linecolor": "white",
            "showbackground": true,
            "ticks": "",
            "zerolinecolor": "white"
           },
           "yaxis": {
            "backgroundcolor": "#E5ECF6",
            "gridcolor": "white",
            "gridwidth": 2,
            "linecolor": "white",
            "showbackground": true,
            "ticks": "",
            "zerolinecolor": "white"
           },
           "zaxis": {
            "backgroundcolor": "#E5ECF6",
            "gridcolor": "white",
            "gridwidth": 2,
            "linecolor": "white",
            "showbackground": true,
            "ticks": "",
            "zerolinecolor": "white"
           }
          },
          "shapedefaults": {
           "line": {
            "color": "#2a3f5f"
           }
          },
          "ternary": {
           "aaxis": {
            "gridcolor": "white",
            "linecolor": "white",
            "ticks": ""
           },
           "baxis": {
            "gridcolor": "white",
            "linecolor": "white",
            "ticks": ""
           },
           "bgcolor": "#E5ECF6",
           "caxis": {
            "gridcolor": "white",
            "linecolor": "white",
            "ticks": ""
           }
          },
          "title": {
           "x": 0.05
          },
          "xaxis": {
           "automargin": true,
           "gridcolor": "white",
           "linecolor": "white",
           "ticks": "",
           "title": {
            "standoff": 15
           },
           "zerolinecolor": "white",
           "zerolinewidth": 2
          },
          "yaxis": {
           "automargin": true,
           "gridcolor": "white",
           "linecolor": "white",
           "ticks": "",
           "title": {
            "standoff": 15
           },
           "zerolinecolor": "white",
           "zerolinewidth": 2
          }
         }
        },
        "title": {
         "text": "Platforms' Sales Growth (USD Millions)"
        },
        "xaxis": {
         "anchor": "y",
         "domain": [
          0,
          1
         ],
         "title": {
          "text": "Platform"
         }
        },
        "yaxis": {
         "anchor": "x",
         "domain": [
          0,
          1
         ],
         "title": {
          "text": "Year of Release"
         }
        }
       }
      }
     },
     "metadata": {},
     "output_type": "display_data"
    }
   ],
   "source": [
    "leading_sales = ice_data_filtered.groupby('platform')['total_sales'].sum().sort_values(ascending=False)\n",
    "leading_sales = leading_sales.reset_index().rename(columns={0: 'platform', 'total_sales': 'total_sales'})\n",
    "print(leading_sales)\n",
    "sales_growth = ice_data_filtered.groupby(['year_of_release', 'platform'])['total_sales'].sum()\n",
    "sales_growth = sales_growth.reset_index().rename(columns={0: 'year_of_release', 1: 'platform', 'total_sales': 'total_sales'})\n",
    "sales_growth_chart = px.scatter(sales_growth,\n",
    "                                x='platform',\n",
    "                                y='year_of_release',\n",
    "                                color='total_sales',\n",
    "                                labels={\n",
    "                                        'platform': 'Platform',\n",
    "                                        'total_sales': 'Total Sales (in USD millions)',\n",
    "                                        'year_of_release': 'Year of Release'},                              \n",
    "                                        title=\"Platforms' Sales Growth (USD Millions)\"\n",
    "    \n",
    ")\n",
    "\n",
    "sales_growth_chart.show()"
   ]
  },
  {
   "attachments": {},
   "cell_type": "markdown",
   "metadata": {},
   "source": [
    "XOne, PS4, 3DS led in sales in 2016.\n",
    "PC and Wii have sharply dropped off with new streaming options on other game consoles. XBox 360 has decreased as new XBox versions have been released. Same with PS2 and PS3 now that PS4 is released.\n",
    "Based on these numbers and the graph, I would say that XOne, PS4, 3DS, and potentially PSV could be profitable.\n"
   ]
  },
  {
   "attachments": {},
   "cell_type": "markdown",
   "metadata": {},
   "source": [
    "Build a box plot for the global sales of all games, broken down by platform. Are the differences in sales significant? What about average sales on various platforms? Describe your findings."
   ]
  },
  {
   "cell_type": "code",
   "execution_count": 1462,
   "metadata": {},
   "outputs": [
    {
     "data": {
      "application/vnd.plotly.v1+json": {
       "config": {
        "plotlyServerURL": "https://plot.ly"
       },
       "data": [
        {
         "alignmentgroup": "True",
         "boxpoints": "all",
         "customdata": [
          [
           "2600"
          ],
          [
           "3DS"
          ],
          [
           "DC"
          ],
          [
           "DS"
          ],
          [
           "GB"
          ],
          [
           "GBA"
          ],
          [
           "GC"
          ],
          [
           "N64"
          ],
          [
           "PC"
          ],
          [
           "PS"
          ],
          [
           "PS2"
          ],
          [
           "PS3"
          ],
          [
           "PS4"
          ],
          [
           "PSP"
          ],
          [
           "PSV"
          ],
          [
           "Wii"
          ],
          [
           "WiiU"
          ],
          [
           "X360"
          ],
          [
           "XB"
          ],
          [
           "XOne"
          ]
         ],
         "hovertemplate": "Average Sales (in USD millions)=%{x}<br>Platform=%{customdata[0]}<extra></extra>",
         "legendgroup": "",
         "marker": {
          "color": "#636efa"
         },
         "name": "",
         "notched": false,
         "offsetgroup": "",
         "orientation": "h",
         "showlegend": false,
         "type": "box",
         "x": [
          0.6176470588235294,
          0.4980769230769231,
          0.03,
          0.37086506817113307,
          1.03,
          0.2487434554973822,
          0.2665584415584416,
          0.2233333333333333,
          0.2066867469879518,
          0.4685714285714286,
          0.40028310502283104,
          0.7064962406015037,
          0.8013775510204081,
          0.2403601340033501,
          0.12574418604651164,
          0.6875075757575757,
          0.5591156462585034,
          0.7697464342313788,
          0.24651515151515152,
          0.6450202429149797
         ],
         "x0": " ",
         "xaxis": "x",
         "y0": " ",
         "yaxis": "y"
        }
       ],
       "layout": {
        "boxmode": "group",
        "legend": {
         "tracegroupgap": 0
        },
        "template": {
         "data": {
          "bar": [
           {
            "error_x": {
             "color": "#2a3f5f"
            },
            "error_y": {
             "color": "#2a3f5f"
            },
            "marker": {
             "line": {
              "color": "#E5ECF6",
              "width": 0.5
             },
             "pattern": {
              "fillmode": "overlay",
              "size": 10,
              "solidity": 0.2
             }
            },
            "type": "bar"
           }
          ],
          "barpolar": [
           {
            "marker": {
             "line": {
              "color": "#E5ECF6",
              "width": 0.5
             },
             "pattern": {
              "fillmode": "overlay",
              "size": 10,
              "solidity": 0.2
             }
            },
            "type": "barpolar"
           }
          ],
          "carpet": [
           {
            "aaxis": {
             "endlinecolor": "#2a3f5f",
             "gridcolor": "white",
             "linecolor": "white",
             "minorgridcolor": "white",
             "startlinecolor": "#2a3f5f"
            },
            "baxis": {
             "endlinecolor": "#2a3f5f",
             "gridcolor": "white",
             "linecolor": "white",
             "minorgridcolor": "white",
             "startlinecolor": "#2a3f5f"
            },
            "type": "carpet"
           }
          ],
          "choropleth": [
           {
            "colorbar": {
             "outlinewidth": 0,
             "ticks": ""
            },
            "type": "choropleth"
           }
          ],
          "contour": [
           {
            "colorbar": {
             "outlinewidth": 0,
             "ticks": ""
            },
            "colorscale": [
             [
              0,
              "#0d0887"
             ],
             [
              0.1111111111111111,
              "#46039f"
             ],
             [
              0.2222222222222222,
              "#7201a8"
             ],
             [
              0.3333333333333333,
              "#9c179e"
             ],
             [
              0.4444444444444444,
              "#bd3786"
             ],
             [
              0.5555555555555556,
              "#d8576b"
             ],
             [
              0.6666666666666666,
              "#ed7953"
             ],
             [
              0.7777777777777778,
              "#fb9f3a"
             ],
             [
              0.8888888888888888,
              "#fdca26"
             ],
             [
              1,
              "#f0f921"
             ]
            ],
            "type": "contour"
           }
          ],
          "contourcarpet": [
           {
            "colorbar": {
             "outlinewidth": 0,
             "ticks": ""
            },
            "type": "contourcarpet"
           }
          ],
          "heatmap": [
           {
            "colorbar": {
             "outlinewidth": 0,
             "ticks": ""
            },
            "colorscale": [
             [
              0,
              "#0d0887"
             ],
             [
              0.1111111111111111,
              "#46039f"
             ],
             [
              0.2222222222222222,
              "#7201a8"
             ],
             [
              0.3333333333333333,
              "#9c179e"
             ],
             [
              0.4444444444444444,
              "#bd3786"
             ],
             [
              0.5555555555555556,
              "#d8576b"
             ],
             [
              0.6666666666666666,
              "#ed7953"
             ],
             [
              0.7777777777777778,
              "#fb9f3a"
             ],
             [
              0.8888888888888888,
              "#fdca26"
             ],
             [
              1,
              "#f0f921"
             ]
            ],
            "type": "heatmap"
           }
          ],
          "heatmapgl": [
           {
            "colorbar": {
             "outlinewidth": 0,
             "ticks": ""
            },
            "colorscale": [
             [
              0,
              "#0d0887"
             ],
             [
              0.1111111111111111,
              "#46039f"
             ],
             [
              0.2222222222222222,
              "#7201a8"
             ],
             [
              0.3333333333333333,
              "#9c179e"
             ],
             [
              0.4444444444444444,
              "#bd3786"
             ],
             [
              0.5555555555555556,
              "#d8576b"
             ],
             [
              0.6666666666666666,
              "#ed7953"
             ],
             [
              0.7777777777777778,
              "#fb9f3a"
             ],
             [
              0.8888888888888888,
              "#fdca26"
             ],
             [
              1,
              "#f0f921"
             ]
            ],
            "type": "heatmapgl"
           }
          ],
          "histogram": [
           {
            "marker": {
             "pattern": {
              "fillmode": "overlay",
              "size": 10,
              "solidity": 0.2
             }
            },
            "type": "histogram"
           }
          ],
          "histogram2d": [
           {
            "colorbar": {
             "outlinewidth": 0,
             "ticks": ""
            },
            "colorscale": [
             [
              0,
              "#0d0887"
             ],
             [
              0.1111111111111111,
              "#46039f"
             ],
             [
              0.2222222222222222,
              "#7201a8"
             ],
             [
              0.3333333333333333,
              "#9c179e"
             ],
             [
              0.4444444444444444,
              "#bd3786"
             ],
             [
              0.5555555555555556,
              "#d8576b"
             ],
             [
              0.6666666666666666,
              "#ed7953"
             ],
             [
              0.7777777777777778,
              "#fb9f3a"
             ],
             [
              0.8888888888888888,
              "#fdca26"
             ],
             [
              1,
              "#f0f921"
             ]
            ],
            "type": "histogram2d"
           }
          ],
          "histogram2dcontour": [
           {
            "colorbar": {
             "outlinewidth": 0,
             "ticks": ""
            },
            "colorscale": [
             [
              0,
              "#0d0887"
             ],
             [
              0.1111111111111111,
              "#46039f"
             ],
             [
              0.2222222222222222,
              "#7201a8"
             ],
             [
              0.3333333333333333,
              "#9c179e"
             ],
             [
              0.4444444444444444,
              "#bd3786"
             ],
             [
              0.5555555555555556,
              "#d8576b"
             ],
             [
              0.6666666666666666,
              "#ed7953"
             ],
             [
              0.7777777777777778,
              "#fb9f3a"
             ],
             [
              0.8888888888888888,
              "#fdca26"
             ],
             [
              1,
              "#f0f921"
             ]
            ],
            "type": "histogram2dcontour"
           }
          ],
          "mesh3d": [
           {
            "colorbar": {
             "outlinewidth": 0,
             "ticks": ""
            },
            "type": "mesh3d"
           }
          ],
          "parcoords": [
           {
            "line": {
             "colorbar": {
              "outlinewidth": 0,
              "ticks": ""
             }
            },
            "type": "parcoords"
           }
          ],
          "pie": [
           {
            "automargin": true,
            "type": "pie"
           }
          ],
          "scatter": [
           {
            "fillpattern": {
             "fillmode": "overlay",
             "size": 10,
             "solidity": 0.2
            },
            "type": "scatter"
           }
          ],
          "scatter3d": [
           {
            "line": {
             "colorbar": {
              "outlinewidth": 0,
              "ticks": ""
             }
            },
            "marker": {
             "colorbar": {
              "outlinewidth": 0,
              "ticks": ""
             }
            },
            "type": "scatter3d"
           }
          ],
          "scattercarpet": [
           {
            "marker": {
             "colorbar": {
              "outlinewidth": 0,
              "ticks": ""
             }
            },
            "type": "scattercarpet"
           }
          ],
          "scattergeo": [
           {
            "marker": {
             "colorbar": {
              "outlinewidth": 0,
              "ticks": ""
             }
            },
            "type": "scattergeo"
           }
          ],
          "scattergl": [
           {
            "marker": {
             "colorbar": {
              "outlinewidth": 0,
              "ticks": ""
             }
            },
            "type": "scattergl"
           }
          ],
          "scattermapbox": [
           {
            "marker": {
             "colorbar": {
              "outlinewidth": 0,
              "ticks": ""
             }
            },
            "type": "scattermapbox"
           }
          ],
          "scatterpolar": [
           {
            "marker": {
             "colorbar": {
              "outlinewidth": 0,
              "ticks": ""
             }
            },
            "type": "scatterpolar"
           }
          ],
          "scatterpolargl": [
           {
            "marker": {
             "colorbar": {
              "outlinewidth": 0,
              "ticks": ""
             }
            },
            "type": "scatterpolargl"
           }
          ],
          "scatterternary": [
           {
            "marker": {
             "colorbar": {
              "outlinewidth": 0,
              "ticks": ""
             }
            },
            "type": "scatterternary"
           }
          ],
          "surface": [
           {
            "colorbar": {
             "outlinewidth": 0,
             "ticks": ""
            },
            "colorscale": [
             [
              0,
              "#0d0887"
             ],
             [
              0.1111111111111111,
              "#46039f"
             ],
             [
              0.2222222222222222,
              "#7201a8"
             ],
             [
              0.3333333333333333,
              "#9c179e"
             ],
             [
              0.4444444444444444,
              "#bd3786"
             ],
             [
              0.5555555555555556,
              "#d8576b"
             ],
             [
              0.6666666666666666,
              "#ed7953"
             ],
             [
              0.7777777777777778,
              "#fb9f3a"
             ],
             [
              0.8888888888888888,
              "#fdca26"
             ],
             [
              1,
              "#f0f921"
             ]
            ],
            "type": "surface"
           }
          ],
          "table": [
           {
            "cells": {
             "fill": {
              "color": "#EBF0F8"
             },
             "line": {
              "color": "white"
             }
            },
            "header": {
             "fill": {
              "color": "#C8D4E3"
             },
             "line": {
              "color": "white"
             }
            },
            "type": "table"
           }
          ]
         },
         "layout": {
          "annotationdefaults": {
           "arrowcolor": "#2a3f5f",
           "arrowhead": 0,
           "arrowwidth": 1
          },
          "autotypenumbers": "strict",
          "coloraxis": {
           "colorbar": {
            "outlinewidth": 0,
            "ticks": ""
           }
          },
          "colorscale": {
           "diverging": [
            [
             0,
             "#8e0152"
            ],
            [
             0.1,
             "#c51b7d"
            ],
            [
             0.2,
             "#de77ae"
            ],
            [
             0.3,
             "#f1b6da"
            ],
            [
             0.4,
             "#fde0ef"
            ],
            [
             0.5,
             "#f7f7f7"
            ],
            [
             0.6,
             "#e6f5d0"
            ],
            [
             0.7,
             "#b8e186"
            ],
            [
             0.8,
             "#7fbc41"
            ],
            [
             0.9,
             "#4d9221"
            ],
            [
             1,
             "#276419"
            ]
           ],
           "sequential": [
            [
             0,
             "#0d0887"
            ],
            [
             0.1111111111111111,
             "#46039f"
            ],
            [
             0.2222222222222222,
             "#7201a8"
            ],
            [
             0.3333333333333333,
             "#9c179e"
            ],
            [
             0.4444444444444444,
             "#bd3786"
            ],
            [
             0.5555555555555556,
             "#d8576b"
            ],
            [
             0.6666666666666666,
             "#ed7953"
            ],
            [
             0.7777777777777778,
             "#fb9f3a"
            ],
            [
             0.8888888888888888,
             "#fdca26"
            ],
            [
             1,
             "#f0f921"
            ]
           ],
           "sequentialminus": [
            [
             0,
             "#0d0887"
            ],
            [
             0.1111111111111111,
             "#46039f"
            ],
            [
             0.2222222222222222,
             "#7201a8"
            ],
            [
             0.3333333333333333,
             "#9c179e"
            ],
            [
             0.4444444444444444,
             "#bd3786"
            ],
            [
             0.5555555555555556,
             "#d8576b"
            ],
            [
             0.6666666666666666,
             "#ed7953"
            ],
            [
             0.7777777777777778,
             "#fb9f3a"
            ],
            [
             0.8888888888888888,
             "#fdca26"
            ],
            [
             1,
             "#f0f921"
            ]
           ]
          },
          "colorway": [
           "#636efa",
           "#EF553B",
           "#00cc96",
           "#ab63fa",
           "#FFA15A",
           "#19d3f3",
           "#FF6692",
           "#B6E880",
           "#FF97FF",
           "#FECB52"
          ],
          "font": {
           "color": "#2a3f5f"
          },
          "geo": {
           "bgcolor": "white",
           "lakecolor": "white",
           "landcolor": "#E5ECF6",
           "showlakes": true,
           "showland": true,
           "subunitcolor": "white"
          },
          "hoverlabel": {
           "align": "left"
          },
          "hovermode": "closest",
          "mapbox": {
           "style": "light"
          },
          "paper_bgcolor": "white",
          "plot_bgcolor": "#E5ECF6",
          "polar": {
           "angularaxis": {
            "gridcolor": "white",
            "linecolor": "white",
            "ticks": ""
           },
           "bgcolor": "#E5ECF6",
           "radialaxis": {
            "gridcolor": "white",
            "linecolor": "white",
            "ticks": ""
           }
          },
          "scene": {
           "xaxis": {
            "backgroundcolor": "#E5ECF6",
            "gridcolor": "white",
            "gridwidth": 2,
            "linecolor": "white",
            "showbackground": true,
            "ticks": "",
            "zerolinecolor": "white"
           },
           "yaxis": {
            "backgroundcolor": "#E5ECF6",
            "gridcolor": "white",
            "gridwidth": 2,
            "linecolor": "white",
            "showbackground": true,
            "ticks": "",
            "zerolinecolor": "white"
           },
           "zaxis": {
            "backgroundcolor": "#E5ECF6",
            "gridcolor": "white",
            "gridwidth": 2,
            "linecolor": "white",
            "showbackground": true,
            "ticks": "",
            "zerolinecolor": "white"
           }
          },
          "shapedefaults": {
           "line": {
            "color": "#2a3f5f"
           }
          },
          "ternary": {
           "aaxis": {
            "gridcolor": "white",
            "linecolor": "white",
            "ticks": ""
           },
           "baxis": {
            "gridcolor": "white",
            "linecolor": "white",
            "ticks": ""
           },
           "bgcolor": "#E5ECF6",
           "caxis": {
            "gridcolor": "white",
            "linecolor": "white",
            "ticks": ""
           }
          },
          "title": {
           "x": 0.05
          },
          "xaxis": {
           "automargin": true,
           "gridcolor": "white",
           "linecolor": "white",
           "ticks": "",
           "title": {
            "standoff": 15
           },
           "zerolinecolor": "white",
           "zerolinewidth": 2
          },
          "yaxis": {
           "automargin": true,
           "gridcolor": "white",
           "linecolor": "white",
           "ticks": "",
           "title": {
            "standoff": 15
           },
           "zerolinecolor": "white",
           "zerolinewidth": 2
          }
         }
        },
        "title": {
         "text": "Average Sales Distribution Boxplot"
        },
        "xaxis": {
         "anchor": "y",
         "domain": [
          0,
          1
         ],
         "title": {
          "text": "Average Sales (in USD millions)"
         }
        },
        "yaxis": {
         "anchor": "x",
         "domain": [
          0,
          1
         ]
        }
       }
      }
     },
     "metadata": {},
     "output_type": "display_data"
    }
   ],
   "source": [
    "total_sales_mean = ice_data_filtered.groupby('platform')['total_sales'].mean()\n",
    "total_sales_mean = total_sales_mean.reset_index().rename(columns={0: 'platform', 'total_sales': 'total_sales'})\n",
    "sales_mean_box = px.box(total_sales_mean, \n",
    "                        x='total_sales', \n",
    "                        points='all', \n",
    "                        hover_data=['platform'],\n",
    "                        labels={\n",
    "                                'platform': 'Platform',\n",
    "                                'total_sales': 'Average Sales (in USD millions)'},\n",
    "                        title='Average Sales Distribution Boxplot')\n",
    "\n",
    "sales_mean_box.show()\n"
   ]
  },
  {
   "cell_type": "markdown",
   "metadata": {},
   "source": []
  }
 ],
 "metadata": {
  "kernelspec": {
   "display_name": "base",
   "language": "python",
   "name": "python3"
  },
  "language_info": {
   "codemirror_mode": {
    "name": "ipython",
    "version": 3
   },
   "file_extension": ".py",
   "mimetype": "text/x-python",
   "name": "python",
   "nbconvert_exporter": "python",
   "pygments_lexer": "ipython3",
   "version": "3.9.13"
  },
  "orig_nbformat": 4
 },
 "nbformat": 4,
 "nbformat_minor": 2
}
